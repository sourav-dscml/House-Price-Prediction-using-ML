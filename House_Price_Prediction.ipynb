{
 "cells": [
  {
   "cell_type": "markdown",
   "metadata": {
    "id": "a-sjGQ3Hi0gI"
   },
   "source": [
    "# House Prices Prediction Using Mechine Learning"
   ]
  },
  {
   "cell_type": "markdown",
   "metadata": {
    "id": "8XryJ2hxjFQp"
   },
   "source": [
    "## Problem Statement\n",
    "The goal of this statistical analysis is to understand the relationship between house features and how these variables are used to predict house price.\n",
    "## Objective\n",
    "*   Predict the house price\n",
    "\n",
    "\n",
    "## Data used: \n",
    "https://www.machinehack.com/hackathons/house_price_prediction_beat_the_benchmark/data"
   ]
  },
  {
   "cell_type": "markdown",
   "metadata": {
    "id": "XXAY01sLkddT"
   },
   "source": [
    "# Step 1: Exploratory Data Analysis (EDA)"
   ]
  },
  {
   "cell_type": "code",
   "execution_count": 1,
   "metadata": {
    "id": "M-AqyOnSLjIs"
   },
   "outputs": [],
   "source": [
    "#import required libraries\n",
    "\n",
    "import numpy as np\n",
    "import pandas as pd\n",
    "import matplotlib.pyplot as plt\n",
    "%matplotlib inline\n",
    "plt.style.use('seaborn-dark')\n",
    "\n",
    "import seaborn as sns\n",
    "from sklearn.model_selection import train_test_split, StratifiedKFold\n",
    "\n",
    "from IPython.core.interactiveshell import InteractiveShell\n",
    "InteractiveShell.ast_node_interactivity = \"all\"\n",
    "\n",
    "import xgboost as xgb\n",
    "from geopy.geocoders import Nominatim\n",
    "\n",
    "import warnings\n",
    "warnings.simplefilter('ignore')"
   ]
  },
  {
   "cell_type": "code",
   "execution_count": 2,
   "metadata": {
    "id": "zbL-Z9bjLqF4"
   },
   "outputs": [],
   "source": [
    "#import Data\n",
    "\n",
    "test_data = pd.read_csv('Test.csv')\n",
    "train_data = pd.read_csv('Train.csv')"
   ]
  },
  {
   "cell_type": "code",
   "execution_count": 3,
   "metadata": {
    "colab": {
     "base_uri": "https://localhost:8080/",
     "height": 284
    },
    "id": "m4LMto1OLqIj",
    "outputId": "4ee25cdf-a417-4875-cf7b-c3ddd880adb4"
   },
   "outputs": [
    {
     "data": {
      "text/html": [
       "<div>\n",
       "<style scoped>\n",
       "    .dataframe tbody tr th:only-of-type {\n",
       "        vertical-align: middle;\n",
       "    }\n",
       "\n",
       "    .dataframe tbody tr th {\n",
       "        vertical-align: top;\n",
       "    }\n",
       "\n",
       "    .dataframe thead th {\n",
       "        text-align: right;\n",
       "    }\n",
       "</style>\n",
       "<table border=\"1\" class=\"dataframe\">\n",
       "  <thead>\n",
       "    <tr style=\"text-align: right;\">\n",
       "      <th></th>\n",
       "      <th>UNDER_CONSTRUCTION</th>\n",
       "      <th>RERA</th>\n",
       "      <th>BHK_NO.</th>\n",
       "      <th>SQUARE_FT</th>\n",
       "      <th>READY_TO_MOVE</th>\n",
       "      <th>RESALE</th>\n",
       "      <th>LONGITUDE</th>\n",
       "      <th>LATITUDE</th>\n",
       "      <th>TARGET(PRICE_IN_LACS)</th>\n",
       "    </tr>\n",
       "  </thead>\n",
       "  <tbody>\n",
       "    <tr>\n",
       "      <th>count</th>\n",
       "      <td>29451.000000</td>\n",
       "      <td>29451.000000</td>\n",
       "      <td>29451.000000</td>\n",
       "      <td>2.945100e+04</td>\n",
       "      <td>29451.000000</td>\n",
       "      <td>29451.000000</td>\n",
       "      <td>29451.000000</td>\n",
       "      <td>29451.000000</td>\n",
       "      <td>29451.000000</td>\n",
       "    </tr>\n",
       "    <tr>\n",
       "      <th>mean</th>\n",
       "      <td>0.179756</td>\n",
       "      <td>0.317918</td>\n",
       "      <td>2.392279</td>\n",
       "      <td>1.980217e+04</td>\n",
       "      <td>0.820244</td>\n",
       "      <td>0.929578</td>\n",
       "      <td>21.300255</td>\n",
       "      <td>76.837695</td>\n",
       "      <td>142.898746</td>\n",
       "    </tr>\n",
       "    <tr>\n",
       "      <th>std</th>\n",
       "      <td>0.383991</td>\n",
       "      <td>0.465675</td>\n",
       "      <td>0.879091</td>\n",
       "      <td>1.901335e+06</td>\n",
       "      <td>0.383991</td>\n",
       "      <td>0.255861</td>\n",
       "      <td>6.205306</td>\n",
       "      <td>10.557747</td>\n",
       "      <td>656.880713</td>\n",
       "    </tr>\n",
       "    <tr>\n",
       "      <th>min</th>\n",
       "      <td>0.000000</td>\n",
       "      <td>0.000000</td>\n",
       "      <td>1.000000</td>\n",
       "      <td>3.000000e+00</td>\n",
       "      <td>0.000000</td>\n",
       "      <td>0.000000</td>\n",
       "      <td>-37.713008</td>\n",
       "      <td>-121.761248</td>\n",
       "      <td>0.250000</td>\n",
       "    </tr>\n",
       "    <tr>\n",
       "      <th>25%</th>\n",
       "      <td>0.000000</td>\n",
       "      <td>0.000000</td>\n",
       "      <td>2.000000</td>\n",
       "      <td>9.000211e+02</td>\n",
       "      <td>1.000000</td>\n",
       "      <td>1.000000</td>\n",
       "      <td>18.452663</td>\n",
       "      <td>73.798100</td>\n",
       "      <td>38.000000</td>\n",
       "    </tr>\n",
       "    <tr>\n",
       "      <th>50%</th>\n",
       "      <td>0.000000</td>\n",
       "      <td>0.000000</td>\n",
       "      <td>2.000000</td>\n",
       "      <td>1.175057e+03</td>\n",
       "      <td>1.000000</td>\n",
       "      <td>1.000000</td>\n",
       "      <td>20.750000</td>\n",
       "      <td>77.324137</td>\n",
       "      <td>62.000000</td>\n",
       "    </tr>\n",
       "    <tr>\n",
       "      <th>75%</th>\n",
       "      <td>0.000000</td>\n",
       "      <td>1.000000</td>\n",
       "      <td>3.000000</td>\n",
       "      <td>1.550688e+03</td>\n",
       "      <td>1.000000</td>\n",
       "      <td>1.000000</td>\n",
       "      <td>26.900926</td>\n",
       "      <td>77.828740</td>\n",
       "      <td>100.000000</td>\n",
       "    </tr>\n",
       "    <tr>\n",
       "      <th>max</th>\n",
       "      <td>1.000000</td>\n",
       "      <td>1.000000</td>\n",
       "      <td>20.000000</td>\n",
       "      <td>2.545455e+08</td>\n",
       "      <td>1.000000</td>\n",
       "      <td>1.000000</td>\n",
       "      <td>59.912884</td>\n",
       "      <td>152.962676</td>\n",
       "      <td>30000.000000</td>\n",
       "    </tr>\n",
       "  </tbody>\n",
       "</table>\n",
       "</div>"
      ],
      "text/plain": [
       "       UNDER_CONSTRUCTION          RERA       BHK_NO.     SQUARE_FT  \\\n",
       "count        29451.000000  29451.000000  29451.000000  2.945100e+04   \n",
       "mean             0.179756      0.317918      2.392279  1.980217e+04   \n",
       "std              0.383991      0.465675      0.879091  1.901335e+06   \n",
       "min              0.000000      0.000000      1.000000  3.000000e+00   \n",
       "25%              0.000000      0.000000      2.000000  9.000211e+02   \n",
       "50%              0.000000      0.000000      2.000000  1.175057e+03   \n",
       "75%              0.000000      1.000000      3.000000  1.550688e+03   \n",
       "max              1.000000      1.000000     20.000000  2.545455e+08   \n",
       "\n",
       "       READY_TO_MOVE        RESALE     LONGITUDE      LATITUDE  \\\n",
       "count   29451.000000  29451.000000  29451.000000  29451.000000   \n",
       "mean        0.820244      0.929578     21.300255     76.837695   \n",
       "std         0.383991      0.255861      6.205306     10.557747   \n",
       "min         0.000000      0.000000    -37.713008   -121.761248   \n",
       "25%         1.000000      1.000000     18.452663     73.798100   \n",
       "50%         1.000000      1.000000     20.750000     77.324137   \n",
       "75%         1.000000      1.000000     26.900926     77.828740   \n",
       "max         1.000000      1.000000     59.912884    152.962676   \n",
       "\n",
       "       TARGET(PRICE_IN_LACS)  \n",
       "count           29451.000000  \n",
       "mean              142.898746  \n",
       "std               656.880713  \n",
       "min                 0.250000  \n",
       "25%                38.000000  \n",
       "50%                62.000000  \n",
       "75%               100.000000  \n",
       "max             30000.000000  "
      ]
     },
     "execution_count": 3,
     "metadata": {},
     "output_type": "execute_result"
    }
   ],
   "source": [
    "train_data.describe()"
   ]
  },
  {
   "cell_type": "code",
   "execution_count": 4,
   "metadata": {
    "colab": {
     "base_uri": "https://localhost:8080/",
     "height": 284
    },
    "id": "nNqJOGybLqLS",
    "outputId": "537e84c3-e85f-470c-a642-b32377cda06a"
   },
   "outputs": [
    {
     "data": {
      "text/html": [
       "<div>\n",
       "<style scoped>\n",
       "    .dataframe tbody tr th:only-of-type {\n",
       "        vertical-align: middle;\n",
       "    }\n",
       "\n",
       "    .dataframe tbody tr th {\n",
       "        vertical-align: top;\n",
       "    }\n",
       "\n",
       "    .dataframe thead th {\n",
       "        text-align: right;\n",
       "    }\n",
       "</style>\n",
       "<table border=\"1\" class=\"dataframe\">\n",
       "  <thead>\n",
       "    <tr style=\"text-align: right;\">\n",
       "      <th></th>\n",
       "      <th>UNDER_CONSTRUCTION</th>\n",
       "      <th>RERA</th>\n",
       "      <th>BHK_NO.</th>\n",
       "      <th>SQUARE_FT</th>\n",
       "      <th>READY_TO_MOVE</th>\n",
       "      <th>RESALE</th>\n",
       "      <th>LONGITUDE</th>\n",
       "      <th>LATITUDE</th>\n",
       "    </tr>\n",
       "  </thead>\n",
       "  <tbody>\n",
       "    <tr>\n",
       "      <th>count</th>\n",
       "      <td>68720.000000</td>\n",
       "      <td>68720.000000</td>\n",
       "      <td>68720.000000</td>\n",
       "      <td>6.872000e+04</td>\n",
       "      <td>68720.000000</td>\n",
       "      <td>68720.000000</td>\n",
       "      <td>68720.000000</td>\n",
       "      <td>68720.000000</td>\n",
       "    </tr>\n",
       "    <tr>\n",
       "      <th>mean</th>\n",
       "      <td>0.176557</td>\n",
       "      <td>0.316531</td>\n",
       "      <td>2.388198</td>\n",
       "      <td>2.762419e+03</td>\n",
       "      <td>0.823443</td>\n",
       "      <td>0.933498</td>\n",
       "      <td>21.288045</td>\n",
       "      <td>76.919388</td>\n",
       "    </tr>\n",
       "    <tr>\n",
       "      <th>std</th>\n",
       "      <td>0.381296</td>\n",
       "      <td>0.465126</td>\n",
       "      <td>0.864577</td>\n",
       "      <td>1.640991e+05</td>\n",
       "      <td>0.381296</td>\n",
       "      <td>0.249159</td>\n",
       "      <td>6.179034</td>\n",
       "      <td>10.100950</td>\n",
       "    </tr>\n",
       "    <tr>\n",
       "      <th>min</th>\n",
       "      <td>0.000000</td>\n",
       "      <td>0.000000</td>\n",
       "      <td>1.000000</td>\n",
       "      <td>1.000000e+00</td>\n",
       "      <td>0.000000</td>\n",
       "      <td>0.000000</td>\n",
       "      <td>-38.391261</td>\n",
       "      <td>-118.354100</td>\n",
       "    </tr>\n",
       "    <tr>\n",
       "      <th>25%</th>\n",
       "      <td>0.000000</td>\n",
       "      <td>0.000000</td>\n",
       "      <td>2.000000</td>\n",
       "      <td>9.000310e+02</td>\n",
       "      <td>1.000000</td>\n",
       "      <td>1.000000</td>\n",
       "      <td>18.452663</td>\n",
       "      <td>73.798100</td>\n",
       "    </tr>\n",
       "    <tr>\n",
       "      <th>50%</th>\n",
       "      <td>0.000000</td>\n",
       "      <td>0.000000</td>\n",
       "      <td>2.000000</td>\n",
       "      <td>1.174982e+03</td>\n",
       "      <td>1.000000</td>\n",
       "      <td>1.000000</td>\n",
       "      <td>20.933260</td>\n",
       "      <td>77.324966</td>\n",
       "    </tr>\n",
       "    <tr>\n",
       "      <th>75%</th>\n",
       "      <td>0.000000</td>\n",
       "      <td>1.000000</td>\n",
       "      <td>3.000000</td>\n",
       "      <td>1.550265e+03</td>\n",
       "      <td>1.000000</td>\n",
       "      <td>1.000000</td>\n",
       "      <td>26.888396</td>\n",
       "      <td>78.000723</td>\n",
       "    </tr>\n",
       "    <tr>\n",
       "      <th>max</th>\n",
       "      <td>1.000000</td>\n",
       "      <td>1.000000</td>\n",
       "      <td>31.000000</td>\n",
       "      <td>4.016393e+07</td>\n",
       "      <td>1.000000</td>\n",
       "      <td>1.000000</td>\n",
       "      <td>65.183330</td>\n",
       "      <td>175.278040</td>\n",
       "    </tr>\n",
       "  </tbody>\n",
       "</table>\n",
       "</div>"
      ],
      "text/plain": [
       "       UNDER_CONSTRUCTION          RERA       BHK_NO.     SQUARE_FT  \\\n",
       "count        68720.000000  68720.000000  68720.000000  6.872000e+04   \n",
       "mean             0.176557      0.316531      2.388198  2.762419e+03   \n",
       "std              0.381296      0.465126      0.864577  1.640991e+05   \n",
       "min              0.000000      0.000000      1.000000  1.000000e+00   \n",
       "25%              0.000000      0.000000      2.000000  9.000310e+02   \n",
       "50%              0.000000      0.000000      2.000000  1.174982e+03   \n",
       "75%              0.000000      1.000000      3.000000  1.550265e+03   \n",
       "max              1.000000      1.000000     31.000000  4.016393e+07   \n",
       "\n",
       "       READY_TO_MOVE        RESALE     LONGITUDE      LATITUDE  \n",
       "count   68720.000000  68720.000000  68720.000000  68720.000000  \n",
       "mean        0.823443      0.933498     21.288045     76.919388  \n",
       "std         0.381296      0.249159      6.179034     10.100950  \n",
       "min         0.000000      0.000000    -38.391261   -118.354100  \n",
       "25%         1.000000      1.000000     18.452663     73.798100  \n",
       "50%         1.000000      1.000000     20.933260     77.324966  \n",
       "75%         1.000000      1.000000     26.888396     78.000723  \n",
       "max         1.000000      1.000000     65.183330    175.278040  "
      ]
     },
     "execution_count": 4,
     "metadata": {},
     "output_type": "execute_result"
    }
   ],
   "source": [
    "#geting some information about the test_data\n",
    "\n",
    "test_data.describe()"
   ]
  },
  {
   "cell_type": "code",
   "execution_count": 5,
   "metadata": {
    "colab": {
     "base_uri": "https://localhost:8080/"
    },
    "id": "IlV_0i69LqN8",
    "outputId": "2b82efae-836c-4e1e-fb7d-54e2e883387c"
   },
   "outputs": [
    {
     "name": "stdout",
     "output_type": "stream",
     "text": [
      "<class 'pandas.core.frame.DataFrame'>\n",
      "RangeIndex: 29451 entries, 0 to 29450\n",
      "Data columns (total 12 columns):\n",
      " #   Column                 Non-Null Count  Dtype  \n",
      "---  ------                 --------------  -----  \n",
      " 0   POSTED_BY              29451 non-null  object \n",
      " 1   UNDER_CONSTRUCTION     29451 non-null  int64  \n",
      " 2   RERA                   29451 non-null  int64  \n",
      " 3   BHK_NO.                29451 non-null  int64  \n",
      " 4   BHK_OR_RK              29451 non-null  object \n",
      " 5   SQUARE_FT              29451 non-null  float64\n",
      " 6   READY_TO_MOVE          29451 non-null  int64  \n",
      " 7   RESALE                 29451 non-null  int64  \n",
      " 8   ADDRESS                29451 non-null  object \n",
      " 9   LONGITUDE              29451 non-null  float64\n",
      " 10  LATITUDE               29451 non-null  float64\n",
      " 11  TARGET(PRICE_IN_LACS)  29451 non-null  float64\n",
      "dtypes: float64(4), int64(5), object(3)\n",
      "memory usage: 2.7+ MB\n"
     ]
    }
   ],
   "source": [
    "#geting some information about the train_data\n",
    "\n",
    "train_data.info()"
   ]
  },
  {
   "cell_type": "code",
   "execution_count": 6,
   "metadata": {
    "colab": {
     "base_uri": "https://localhost:8080/"
    },
    "id": "K70XbgG_LqQk",
    "outputId": "8176bdcd-555e-4422-c686-39c2a11f4bfa"
   },
   "outputs": [
    {
     "data": {
      "text/plain": [
       "401"
      ]
     },
     "execution_count": 6,
     "metadata": {},
     "output_type": "execute_result"
    }
   ],
   "source": [
    "#Checking for duplicates \n",
    "\n",
    "train_data.duplicated().sum()"
   ]
  },
  {
   "cell_type": "code",
   "execution_count": 7,
   "metadata": {
    "id": "KrQZQuTlLqTy"
   },
   "outputs": [],
   "source": [
    "# drop duplicates \n",
    "train_data.drop_duplicates(inplace=True)"
   ]
  },
  {
   "cell_type": "code",
   "execution_count": 8,
   "metadata": {
    "colab": {
     "base_uri": "https://localhost:8080/"
    },
    "id": "sEpHSRXTPw4b",
    "outputId": "c735aff1-9c00-4761-c538-45f46532575f"
   },
   "outputs": [
    {
     "data": {
      "text/plain": [
       "0"
      ]
     },
     "execution_count": 8,
     "metadata": {},
     "output_type": "execute_result"
    }
   ],
   "source": [
    "train_data.duplicated().sum()"
   ]
  },
  {
   "cell_type": "code",
   "execution_count": 9,
   "metadata": {
    "colab": {
     "base_uri": "https://localhost:8080/"
    },
    "id": "TfTZbUDMLqWk",
    "outputId": "55bef8d1-7b04-4ba8-d376-3cc463ab9a6b"
   },
   "outputs": [
    {
     "data": {
      "text/plain": [
       "POSTED_BY                0\n",
       "UNDER_CONSTRUCTION       0\n",
       "RERA                     0\n",
       "BHK_NO.                  0\n",
       "BHK_OR_RK                0\n",
       "SQUARE_FT                0\n",
       "READY_TO_MOVE            0\n",
       "RESALE                   0\n",
       "ADDRESS                  0\n",
       "LONGITUDE                0\n",
       "LATITUDE                 0\n",
       "TARGET(PRICE_IN_LACS)    0\n",
       "dtype: int64"
      ]
     },
     "execution_count": 9,
     "metadata": {},
     "output_type": "execute_result"
    }
   ],
   "source": [
    "train_data.isnull().sum()"
   ]
  },
  {
   "cell_type": "code",
   "execution_count": 10,
   "metadata": {
    "colab": {
     "base_uri": "https://localhost:8080/"
    },
    "id": "3-fw_3pSprpt",
    "outputId": "f16e9105-7069-44dd-bbeb-612e7f657955"
   },
   "outputs": [
    {
     "data": {
      "text/plain": [
       "Index(['POSTED_BY', 'UNDER_CONSTRUCTION', 'RERA', 'BHK_NO.', 'BHK_OR_RK',\n",
       "       'SQUARE_FT', 'READY_TO_MOVE', 'RESALE', 'ADDRESS', 'LONGITUDE',\n",
       "       'LATITUDE', 'TARGET(PRICE_IN_LACS)'],\n",
       "      dtype='object')"
      ]
     },
     "execution_count": 10,
     "metadata": {},
     "output_type": "execute_result"
    }
   ],
   "source": [
    "#checking the column names\n",
    "\n",
    "train_data.columns"
   ]
  },
  {
   "cell_type": "code",
   "execution_count": 11,
   "metadata": {
    "id": "bqPWm9D_Lqbp"
   },
   "outputs": [],
   "source": [
    "#Renameing 'TARGET(PRICE_IN_LACS)' to 'PRICE'\n",
    "\n",
    "train_data.rename(columns={'TARGET(PRICE_IN_LACS)':'PRICE'}, inplace=True)"
   ]
  },
  {
   "cell_type": "code",
   "execution_count": 12,
   "metadata": {
    "colab": {
     "base_uri": "https://localhost:8080/"
    },
    "id": "GWQYBjtmBIRq",
    "outputId": "f9ddd27c-e0b3-430f-f483-e6ff478d536f"
   },
   "outputs": [
    {
     "data": {
      "text/plain": [
       "Index(['POSTED_BY', 'UNDER_CONSTRUCTION', 'RERA', 'BHK_NO.', 'BHK_OR_RK',\n",
       "       'SQUARE_FT', 'READY_TO_MOVE', 'RESALE', 'ADDRESS', 'LONGITUDE',\n",
       "       'LATITUDE', 'PRICE'],\n",
       "      dtype='object')"
      ]
     },
     "execution_count": 12,
     "metadata": {},
     "output_type": "execute_result"
    }
   ],
   "source": [
    "#checking changed column names \n",
    "\n",
    "train_data.columns"
   ]
  },
  {
   "cell_type": "code",
   "execution_count": 13,
   "metadata": {
    "colab": {
     "base_uri": "https://localhost:8080/",
     "height": 293
    },
    "id": "3qEHjgXeLqew",
    "outputId": "84f89998-8fce-4225-d6ae-d0d30e96361f"
   },
   "outputs": [
    {
     "data": {
      "text/plain": [
       "<matplotlib.axes._subplots.AxesSubplot at 0x2d917bc9580>"
      ]
     },
     "execution_count": 13,
     "metadata": {},
     "output_type": "execute_result"
    },
    {
     "data": {
      "image/png": "[encoded data removed]",
      "text/plain": [
       "<Figure size 432x288 with 1 Axes>"
      ]
     },
     "metadata": {},
     "output_type": "display_data"
    }
   ],
   "source": [
    "#visualizing 'POSTED_BY' filed\n",
    "\n",
    "sns.countplot(train_data.POSTED_BY)"
   ]
  },
  {
   "cell_type": "code",
   "execution_count": 14,
   "metadata": {
    "colab": {
     "base_uri": "https://localhost:8080/"
    },
    "id": "BWWYcuRVLqhj",
    "outputId": "6396b465-7854-42d9-96ad-be0468a652e9"
   },
   "outputs": [
    {
     "data": {
      "text/plain": [
       "POSTED_BY\n",
       "Builder    246.722294\n",
       "Dealer     185.285099\n",
       "Owner       60.757067\n",
       "Name: PRICE, dtype: float64"
      ]
     },
     "execution_count": 14,
     "metadata": {},
     "output_type": "execute_result"
    }
   ],
   "source": [
    "#Relation between 'PRICE' and 'POSTED_BY'\n",
    "train_data.groupby('POSTED_BY')['PRICE'].mean()"
   ]
  },
  {
   "cell_type": "code",
   "execution_count": 15,
   "metadata": {
    "id": "pZ8JNJyTp52_"
   },
   "outputs": [],
   "source": [
    "#Creating One Hot Encoding using dummies for 'POSTED_BY' train \n",
    "\n",
    "train_data = pd.concat([train_data,pd.get_dummies(train_data.POSTED_BY, prefix='POSTED_BY',drop_first=False)],axis=1) "
   ]
  },
  {
   "cell_type": "code",
   "execution_count": 16,
   "metadata": {
    "id": "cgL35aPyuUbn"
   },
   "outputs": [],
   "source": [
    "#Creating One Hot Encoding using dummies for 'POSTED_BY' test\n",
    "\n",
    "test_data = pd.concat([test_data,pd.get_dummies(test_data.POSTED_BY, prefix='POSTED_BY',drop_first=False)],axis=1) "
   ]
  },
  {
   "cell_type": "code",
   "execution_count": 17,
   "metadata": {
    "colab": {
     "base_uri": "https://localhost:8080/",
     "height": 266
    },
    "id": "PYgnul3OLqkD",
    "outputId": "94a369f5-f4ec-4c00-e4bd-863df96c8088"
   },
   "outputs": [
    {
     "data": {
      "text/html": [
       "<div>\n",
       "<style scoped>\n",
       "    .dataframe tbody tr th:only-of-type {\n",
       "        vertical-align: middle;\n",
       "    }\n",
       "\n",
       "    .dataframe tbody tr th {\n",
       "        vertical-align: top;\n",
       "    }\n",
       "\n",
       "    .dataframe thead th {\n",
       "        text-align: right;\n",
       "    }\n",
       "</style>\n",
       "<table border=\"1\" class=\"dataframe\">\n",
       "  <thead>\n",
       "    <tr style=\"text-align: right;\">\n",
       "      <th></th>\n",
       "      <th>POSTED_BY</th>\n",
       "      <th>UNDER_CONSTRUCTION</th>\n",
       "      <th>RERA</th>\n",
       "      <th>BHK_NO.</th>\n",
       "      <th>BHK_OR_RK</th>\n",
       "      <th>SQUARE_FT</th>\n",
       "      <th>READY_TO_MOVE</th>\n",
       "      <th>RESALE</th>\n",
       "      <th>ADDRESS</th>\n",
       "      <th>LONGITUDE</th>\n",
       "      <th>LATITUDE</th>\n",
       "      <th>PRICE</th>\n",
       "      <th>POSTED_BY_Builder</th>\n",
       "      <th>POSTED_BY_Dealer</th>\n",
       "      <th>POSTED_BY_Owner</th>\n",
       "    </tr>\n",
       "  </thead>\n",
       "  <tbody>\n",
       "    <tr>\n",
       "      <th>0</th>\n",
       "      <td>Owner</td>\n",
       "      <td>0</td>\n",
       "      <td>0</td>\n",
       "      <td>2</td>\n",
       "      <td>BHK</td>\n",
       "      <td>1300.236407</td>\n",
       "      <td>1</td>\n",
       "      <td>1</td>\n",
       "      <td>Ksfc Layout,Bangalore</td>\n",
       "      <td>12.969910</td>\n",
       "      <td>77.597960</td>\n",
       "      <td>55.0</td>\n",
       "      <td>0</td>\n",
       "      <td>0</td>\n",
       "      <td>1</td>\n",
       "    </tr>\n",
       "    <tr>\n",
       "      <th>1</th>\n",
       "      <td>Dealer</td>\n",
       "      <td>0</td>\n",
       "      <td>0</td>\n",
       "      <td>2</td>\n",
       "      <td>BHK</td>\n",
       "      <td>1275.000000</td>\n",
       "      <td>1</td>\n",
       "      <td>1</td>\n",
       "      <td>Vishweshwara Nagar,Mysore</td>\n",
       "      <td>12.274538</td>\n",
       "      <td>76.644605</td>\n",
       "      <td>51.0</td>\n",
       "      <td>0</td>\n",
       "      <td>1</td>\n",
       "      <td>0</td>\n",
       "    </tr>\n",
       "    <tr>\n",
       "      <th>2</th>\n",
       "      <td>Owner</td>\n",
       "      <td>0</td>\n",
       "      <td>0</td>\n",
       "      <td>2</td>\n",
       "      <td>BHK</td>\n",
       "      <td>933.159722</td>\n",
       "      <td>1</td>\n",
       "      <td>1</td>\n",
       "      <td>Jigani,Bangalore</td>\n",
       "      <td>12.778033</td>\n",
       "      <td>77.632191</td>\n",
       "      <td>43.0</td>\n",
       "      <td>0</td>\n",
       "      <td>0</td>\n",
       "      <td>1</td>\n",
       "    </tr>\n",
       "    <tr>\n",
       "      <th>3</th>\n",
       "      <td>Owner</td>\n",
       "      <td>0</td>\n",
       "      <td>1</td>\n",
       "      <td>2</td>\n",
       "      <td>BHK</td>\n",
       "      <td>929.921143</td>\n",
       "      <td>1</td>\n",
       "      <td>1</td>\n",
       "      <td>Sector-1 Vaishali,Ghaziabad</td>\n",
       "      <td>28.642300</td>\n",
       "      <td>77.344500</td>\n",
       "      <td>62.5</td>\n",
       "      <td>0</td>\n",
       "      <td>0</td>\n",
       "      <td>1</td>\n",
       "    </tr>\n",
       "    <tr>\n",
       "      <th>4</th>\n",
       "      <td>Dealer</td>\n",
       "      <td>1</td>\n",
       "      <td>0</td>\n",
       "      <td>2</td>\n",
       "      <td>BHK</td>\n",
       "      <td>999.009247</td>\n",
       "      <td>0</td>\n",
       "      <td>1</td>\n",
       "      <td>New Town,Kolkata</td>\n",
       "      <td>22.592200</td>\n",
       "      <td>88.484911</td>\n",
       "      <td>60.5</td>\n",
       "      <td>0</td>\n",
       "      <td>1</td>\n",
       "      <td>0</td>\n",
       "    </tr>\n",
       "  </tbody>\n",
       "</table>\n",
       "</div>"
      ],
      "text/plain": [
       "  POSTED_BY  UNDER_CONSTRUCTION  RERA  BHK_NO. BHK_OR_RK    SQUARE_FT  \\\n",
       "0     Owner                   0     0        2       BHK  1300.236407   \n",
       "1    Dealer                   0     0        2       BHK  1275.000000   \n",
       "2     Owner                   0     0        2       BHK   933.159722   \n",
       "3     Owner                   0     1        2       BHK   929.921143   \n",
       "4    Dealer                   1     0        2       BHK   999.009247   \n",
       "\n",
       "   READY_TO_MOVE  RESALE                      ADDRESS  LONGITUDE   LATITUDE  \\\n",
       "0              1       1        Ksfc Layout,Bangalore  12.969910  77.597960   \n",
       "1              1       1    Vishweshwara Nagar,Mysore  12.274538  76.644605   \n",
       "2              1       1             Jigani,Bangalore  12.778033  77.632191   \n",
       "3              1       1  Sector-1 Vaishali,Ghaziabad  28.642300  77.344500   \n",
       "4              0       1             New Town,Kolkata  22.592200  88.484911   \n",
       "\n",
       "   PRICE  POSTED_BY_Builder  POSTED_BY_Dealer  POSTED_BY_Owner  \n",
       "0   55.0                  0                 0                1  \n",
       "1   51.0                  0                 1                0  \n",
       "2   43.0                  0                 0                1  \n",
       "3   62.5                  0                 0                1  \n",
       "4   60.5                  0                 1                0  "
      ]
     },
     "execution_count": 17,
     "metadata": {},
     "output_type": "execute_result"
    }
   ],
   "source": [
    "# It seems like the avarage price of the flat depends on the order: Builder > Dealer >Owner    \n",
    "\n",
    "# posted_by_map = {'Builder':3, 'Dealer':2, 'Owner':1}\n",
    "\n",
    "# train_data.POSTED_BY = train_data.POSTED_BY.map(posted_by_map)\n",
    "\n",
    "# test_data.POSTED_BY = test_data.POSTED_BY.map(posted_by_map)\n",
    "\n",
    "train_data.head()"
   ]
  },
  {
   "cell_type": "code",
   "execution_count": 18,
   "metadata": {
    "colab": {
     "base_uri": "https://localhost:8080/",
     "height": 136
    },
    "id": "a5acOkxSLqmk",
    "outputId": "1fd29f17-821c-4ab5-88c9-14db0db66b36"
   },
   "outputs": [
    {
     "data": {
      "text/html": [
       "<div>\n",
       "<style scoped>\n",
       "    .dataframe tbody tr th:only-of-type {\n",
       "        vertical-align: middle;\n",
       "    }\n",
       "\n",
       "    .dataframe tbody tr th {\n",
       "        vertical-align: top;\n",
       "    }\n",
       "\n",
       "    .dataframe thead th {\n",
       "        text-align: right;\n",
       "    }\n",
       "</style>\n",
       "<table border=\"1\" class=\"dataframe\">\n",
       "  <thead>\n",
       "    <tr style=\"text-align: right;\">\n",
       "      <th></th>\n",
       "      <th>POSTED_BY</th>\n",
       "      <th>UNDER_CONSTRUCTION</th>\n",
       "      <th>RERA</th>\n",
       "      <th>BHK_NO.</th>\n",
       "      <th>SQUARE_FT</th>\n",
       "      <th>READY_TO_MOVE</th>\n",
       "      <th>RESALE</th>\n",
       "      <th>ADDRESS</th>\n",
       "      <th>LONGITUDE</th>\n",
       "      <th>LATITUDE</th>\n",
       "      <th>PRICE</th>\n",
       "      <th>POSTED_BY_Builder</th>\n",
       "      <th>POSTED_BY_Dealer</th>\n",
       "      <th>POSTED_BY_Owner</th>\n",
       "    </tr>\n",
       "    <tr>\n",
       "      <th>BHK_OR_RK</th>\n",
       "      <th></th>\n",
       "      <th></th>\n",
       "      <th></th>\n",
       "      <th></th>\n",
       "      <th></th>\n",
       "      <th></th>\n",
       "      <th></th>\n",
       "      <th></th>\n",
       "      <th></th>\n",
       "      <th></th>\n",
       "      <th></th>\n",
       "      <th></th>\n",
       "      <th></th>\n",
       "      <th></th>\n",
       "    </tr>\n",
       "  </thead>\n",
       "  <tbody>\n",
       "    <tr>\n",
       "      <th>BHK</th>\n",
       "      <td>29026</td>\n",
       "      <td>29026</td>\n",
       "      <td>29026</td>\n",
       "      <td>29026</td>\n",
       "      <td>29026</td>\n",
       "      <td>29026</td>\n",
       "      <td>29026</td>\n",
       "      <td>29026</td>\n",
       "      <td>29026</td>\n",
       "      <td>29026</td>\n",
       "      <td>29026</td>\n",
       "      <td>29026</td>\n",
       "      <td>29026</td>\n",
       "      <td>29026</td>\n",
       "    </tr>\n",
       "    <tr>\n",
       "      <th>RK</th>\n",
       "      <td>24</td>\n",
       "      <td>24</td>\n",
       "      <td>24</td>\n",
       "      <td>24</td>\n",
       "      <td>24</td>\n",
       "      <td>24</td>\n",
       "      <td>24</td>\n",
       "      <td>24</td>\n",
       "      <td>24</td>\n",
       "      <td>24</td>\n",
       "      <td>24</td>\n",
       "      <td>24</td>\n",
       "      <td>24</td>\n",
       "      <td>24</td>\n",
       "    </tr>\n",
       "  </tbody>\n",
       "</table>\n",
       "</div>"
      ],
      "text/plain": [
       "           POSTED_BY  UNDER_CONSTRUCTION   RERA  BHK_NO.  SQUARE_FT  \\\n",
       "BHK_OR_RK                                                             \n",
       "BHK            29026               29026  29026    29026      29026   \n",
       "RK                24                  24     24       24         24   \n",
       "\n",
       "           READY_TO_MOVE  RESALE  ADDRESS  LONGITUDE  LATITUDE  PRICE  \\\n",
       "BHK_OR_RK                                                               \n",
       "BHK                29026   29026    29026      29026     29026  29026   \n",
       "RK                    24      24       24         24        24     24   \n",
       "\n",
       "           POSTED_BY_Builder  POSTED_BY_Dealer  POSTED_BY_Owner  \n",
       "BHK_OR_RK                                                        \n",
       "BHK                    29026             29026            29026  \n",
       "RK                        24                24               24  "
      ]
     },
     "execution_count": 18,
     "metadata": {},
     "output_type": "execute_result"
    }
   ],
   "source": [
    "#Visualzation for 'BHK_OR_RK'\n",
    "\n",
    "train_data.groupby('BHK_OR_RK').count()"
   ]
  },
  {
   "cell_type": "code",
   "execution_count": 19,
   "metadata": {
    "colab": {
     "base_uri": "https://localhost:8080/",
     "height": 266
    },
    "id": "kWqt90IgLqpa",
    "outputId": "358f1bb5-f347-4d8e-8819-571906f83ffa"
   },
   "outputs": [
    {
     "data": {
      "text/html": [
       "<div>\n",
       "<style scoped>\n",
       "    .dataframe tbody tr th:only-of-type {\n",
       "        vertical-align: middle;\n",
       "    }\n",
       "\n",
       "    .dataframe tbody tr th {\n",
       "        vertical-align: top;\n",
       "    }\n",
       "\n",
       "    .dataframe thead th {\n",
       "        text-align: right;\n",
       "    }\n",
       "</style>\n",
       "<table border=\"1\" class=\"dataframe\">\n",
       "  <thead>\n",
       "    <tr style=\"text-align: right;\">\n",
       "      <th></th>\n",
       "      <th>POSTED_BY</th>\n",
       "      <th>UNDER_CONSTRUCTION</th>\n",
       "      <th>RERA</th>\n",
       "      <th>BHK_NO.</th>\n",
       "      <th>BHK_OR_RK</th>\n",
       "      <th>SQUARE_FT</th>\n",
       "      <th>READY_TO_MOVE</th>\n",
       "      <th>RESALE</th>\n",
       "      <th>ADDRESS</th>\n",
       "      <th>LONGITUDE</th>\n",
       "      <th>LATITUDE</th>\n",
       "      <th>PRICE</th>\n",
       "      <th>POSTED_BY_Builder</th>\n",
       "      <th>POSTED_BY_Dealer</th>\n",
       "      <th>POSTED_BY_Owner</th>\n",
       "    </tr>\n",
       "  </thead>\n",
       "  <tbody>\n",
       "    <tr>\n",
       "      <th>0</th>\n",
       "      <td>Owner</td>\n",
       "      <td>0</td>\n",
       "      <td>0</td>\n",
       "      <td>2</td>\n",
       "      <td>2</td>\n",
       "      <td>1300.236407</td>\n",
       "      <td>1</td>\n",
       "      <td>1</td>\n",
       "      <td>Ksfc Layout,Bangalore</td>\n",
       "      <td>12.969910</td>\n",
       "      <td>77.597960</td>\n",
       "      <td>55.0</td>\n",
       "      <td>0</td>\n",
       "      <td>0</td>\n",
       "      <td>1</td>\n",
       "    </tr>\n",
       "    <tr>\n",
       "      <th>1</th>\n",
       "      <td>Dealer</td>\n",
       "      <td>0</td>\n",
       "      <td>0</td>\n",
       "      <td>2</td>\n",
       "      <td>2</td>\n",
       "      <td>1275.000000</td>\n",
       "      <td>1</td>\n",
       "      <td>1</td>\n",
       "      <td>Vishweshwara Nagar,Mysore</td>\n",
       "      <td>12.274538</td>\n",
       "      <td>76.644605</td>\n",
       "      <td>51.0</td>\n",
       "      <td>0</td>\n",
       "      <td>1</td>\n",
       "      <td>0</td>\n",
       "    </tr>\n",
       "    <tr>\n",
       "      <th>2</th>\n",
       "      <td>Owner</td>\n",
       "      <td>0</td>\n",
       "      <td>0</td>\n",
       "      <td>2</td>\n",
       "      <td>2</td>\n",
       "      <td>933.159722</td>\n",
       "      <td>1</td>\n",
       "      <td>1</td>\n",
       "      <td>Jigani,Bangalore</td>\n",
       "      <td>12.778033</td>\n",
       "      <td>77.632191</td>\n",
       "      <td>43.0</td>\n",
       "      <td>0</td>\n",
       "      <td>0</td>\n",
       "      <td>1</td>\n",
       "    </tr>\n",
       "    <tr>\n",
       "      <th>3</th>\n",
       "      <td>Owner</td>\n",
       "      <td>0</td>\n",
       "      <td>1</td>\n",
       "      <td>2</td>\n",
       "      <td>2</td>\n",
       "      <td>929.921143</td>\n",
       "      <td>1</td>\n",
       "      <td>1</td>\n",
       "      <td>Sector-1 Vaishali,Ghaziabad</td>\n",
       "      <td>28.642300</td>\n",
       "      <td>77.344500</td>\n",
       "      <td>62.5</td>\n",
       "      <td>0</td>\n",
       "      <td>0</td>\n",
       "      <td>1</td>\n",
       "    </tr>\n",
       "    <tr>\n",
       "      <th>4</th>\n",
       "      <td>Dealer</td>\n",
       "      <td>1</td>\n",
       "      <td>0</td>\n",
       "      <td>2</td>\n",
       "      <td>2</td>\n",
       "      <td>999.009247</td>\n",
       "      <td>0</td>\n",
       "      <td>1</td>\n",
       "      <td>New Town,Kolkata</td>\n",
       "      <td>22.592200</td>\n",
       "      <td>88.484911</td>\n",
       "      <td>60.5</td>\n",
       "      <td>0</td>\n",
       "      <td>1</td>\n",
       "      <td>0</td>\n",
       "    </tr>\n",
       "  </tbody>\n",
       "</table>\n",
       "</div>"
      ],
      "text/plain": [
       "  POSTED_BY  UNDER_CONSTRUCTION  RERA  BHK_NO.  BHK_OR_RK    SQUARE_FT  \\\n",
       "0     Owner                   0     0        2          2  1300.236407   \n",
       "1    Dealer                   0     0        2          2  1275.000000   \n",
       "2     Owner                   0     0        2          2   933.159722   \n",
       "3     Owner                   0     1        2          2   929.921143   \n",
       "4    Dealer                   1     0        2          2   999.009247   \n",
       "\n",
       "   READY_TO_MOVE  RESALE                      ADDRESS  LONGITUDE   LATITUDE  \\\n",
       "0              1       1        Ksfc Layout,Bangalore  12.969910  77.597960   \n",
       "1              1       1    Vishweshwara Nagar,Mysore  12.274538  76.644605   \n",
       "2              1       1             Jigani,Bangalore  12.778033  77.632191   \n",
       "3              1       1  Sector-1 Vaishali,Ghaziabad  28.642300  77.344500   \n",
       "4              0       1             New Town,Kolkata  22.592200  88.484911   \n",
       "\n",
       "   PRICE  POSTED_BY_Builder  POSTED_BY_Dealer  POSTED_BY_Owner  \n",
       "0   55.0                  0                 0                1  \n",
       "1   51.0                  0                 1                0  \n",
       "2   43.0                  0                 0                1  \n",
       "3   62.5                  0                 0                1  \n",
       "4   60.5                  0                 1                0  "
      ]
     },
     "execution_count": 19,
     "metadata": {},
     "output_type": "execute_result"
    }
   ],
   "source": [
    "#creating label encoding for BHK_OR_RK\n",
    "\n",
    "BHK_OR_RK_map = {'BHK':2, 'RK':1 }\n",
    "\n",
    "train_data.BHK_OR_RK = train_data.BHK_OR_RK.map(BHK_OR_RK_map)\n",
    "\n",
    "test_data.BHK_OR_RK = test_data.BHK_OR_RK.map(BHK_OR_RK_map)\n",
    "\n",
    "train_data.head()"
   ]
  },
  {
   "cell_type": "code",
   "execution_count": 20,
   "metadata": {
    "id": "ChzgiuxgzyVS"
   },
   "outputs": [],
   "source": [
    "#Extracting city name from ADDRESS filed and creating new feature CITY in train\n",
    "\n",
    "train_data['CITY'] = train_data.ADDRESS.apply(lambda x: x.split(',')[-1])"
   ]
  },
  {
   "cell_type": "code",
   "execution_count": 21,
   "metadata": {
    "colab": {
     "base_uri": "https://localhost:8080/"
    },
    "id": "FLFOibxl0icl",
    "outputId": "5b18f2e9-d3c2-4974-8282-e6c01a73fe00"
   },
   "outputs": [
    {
     "data": {
      "text/plain": [
       "array(['Agartala', 'Agra', 'Ahmednagar', 'Ajmer', 'Akola', 'Aligarh',\n",
       "       'Allahabad', 'Alwar', 'Ambala', 'Amravati', 'Amritsar', 'Amroha',\n",
       "       'Anand', 'Anantapur', 'Angul', 'Arrah', 'Asansol', 'Aurangabad',\n",
       "       'Baddi', 'Bahadurgarh', 'Balasore', 'Bangalore', 'Bankura',\n",
       "       'Banswara', 'Barabanki', 'Bardhaman', 'Bareilly', 'Beed',\n",
       "       'Belgaum', 'Berhampur', 'Betul', 'Bhadrak', 'Bhagalpur',\n",
       "       'Bhandara', 'Bharatpur', 'Bharuch', 'Bhavnagar', 'Bhilai',\n",
       "       'Bhimavaram', 'Bhiwadi', 'Bhiwani', 'Bhopal', 'Bhubaneswar',\n",
       "       'Bhuj', 'Bikaner', 'Bilaspur', 'Bokaro', 'Chandigarh',\n",
       "       'Chandrapur', 'Chennai', 'Chhindwara', 'Chittoor', 'Coimbatore',\n",
       "       'Cuddalore', 'Cuttack', 'Dahod', 'Dalhousie', 'Darbhanga',\n",
       "       'Darjeeling', 'Dehradun', 'Deoghar', 'Dhanbad', 'Dharuhera',\n",
       "       'Dharwad', 'Dhule', 'Dibrugarh', 'Durg', 'Durgapur', 'Eluru',\n",
       "       'Ernakulam', 'Erode', 'Faizabad', 'Faridabad', 'Gadarwara',\n",
       "       'Gadhinglaj', 'Gandhidham', 'Gandhinagar', 'Gaya', 'Ghaziabad',\n",
       "       'Goa', 'Godhra', 'Gondia', 'Gulbarga', 'Guntur', 'Gurdaspur',\n",
       "       'Gurgaon', 'Guwahati', 'Gwalior', 'Hajipur', 'Haldia', 'Haldwani',\n",
       "       'Hapur', 'Harda', 'Haridwar', 'Hassan', 'Hathras', 'Hazaribagh',\n",
       "       'Hoshangabad', 'Hoshiarpur', 'Hosur', 'Hubli', 'Idukki', 'Indore',\n",
       "       'Jabalpur', 'Jagdalpur', 'Jaipur', 'Jajpur', 'Jalandhar',\n",
       "       'Jalgaon', 'Jalna', 'Jammu', 'Jamnagar', 'Jamshedpur', 'Jhansi',\n",
       "       'Jharsuguda', 'Jhunjhunu', 'Jind', 'Jodhpur', 'Junagadh', 'Kadapa',\n",
       "       'Kadi', 'Kakinada', 'Kanchipuram', 'Kangra', 'Kannur', 'Kanpur',\n",
       "       'Karad', 'Karaikudi', 'Karjat', 'Karnal', 'Karwar', 'Kharagpur',\n",
       "       'Kochi', 'Kolhapur', 'Kolkata', 'Kollam', 'Korba', 'Kota',\n",
       "       'Kotdwara', 'Kottayam', 'Kurnool', 'Kurukshetra', 'Lalitpur',\n",
       "       'Latur', 'Lucknow', 'Ludhiana', 'Machilipatnam', 'Madurai',\n",
       "       'Maharashtra', 'Malappuram', 'Mangalore', 'Margao', 'Mathura',\n",
       "       'Meerut', 'Midnapore', 'Mohali', 'Moradabad', 'Morbi', 'Mumbai',\n",
       "       'Muzaffarpur', 'Mysore', 'Nadiad', 'Nagaon', 'Nagapattinam',\n",
       "       'Nagaur', 'Nagpur', 'Nainital', 'Nanded', 'Navsari', 'Neemrana',\n",
       "       'Nellore', 'Nizamabad', 'Noida', 'Ongole', 'Ooty', 'Osmanabad',\n",
       "       'Ottapalam', 'Palakkad', 'Palanpur', 'Palghar', 'Pali', 'Palwal',\n",
       "       'Panaji', 'Panchkula', 'Panipat', 'Pathanamthitta', 'Patiala',\n",
       "       'Patna', 'Phagwara', 'Pondicherry', 'Porbandar', 'Pudukkottai',\n",
       "       'Pune', 'Puri', 'Raichur', 'Raigad', 'Raigarh', 'Raipur', 'Raisen',\n",
       "       'Rajkot', 'Rajnandgaon', 'Rajpura', 'Ranchi', 'Ratnagiri',\n",
       "       'Rayagada', 'Rewa', 'Rewari', 'Rishikesh', 'Rohtak', 'Roorkee',\n",
       "       'Rourkela', 'Rudrapur', 'Sabarkantha', 'Sagar', 'Salem',\n",
       "       'Sambalpur', 'Satna', 'Secunderabad', 'Shimla', 'Shirdi',\n",
       "       'Siddipet', 'Sikar', 'Silchar', 'Siliguri', 'Sindhudurg', 'Siwan',\n",
       "       'Solan', 'Solapur', 'Sonipat', 'Srikakulam', 'Srinagar', 'Surat',\n",
       "       'Surendranagar', 'Tenali', 'Thanjavur', 'Thoothukudi', 'Thrissur',\n",
       "       'Tirunelveli', 'Tirupati', 'Udaipur', 'Udupi', 'Ujjain',\n",
       "       'Vadodara', 'Valsad', 'Vapi', 'Varanasi', 'Vellore', 'Vidisha',\n",
       "       'Vijayawada', 'Visakhapatnam', 'Visnagar', 'Vizianagaram',\n",
       "       'Warangal', 'Wardha', 'Washim', 'Yavatmal'], dtype=object)"
      ]
     },
     "execution_count": 21,
     "metadata": {},
     "output_type": "execute_result"
    }
   ],
   "source": [
    "#all avalable distinct city name\n",
    "\n",
    "train_data['CITY'].sort_values(ascending =True).unique()"
   ]
  },
  {
   "cell_type": "code",
   "execution_count": 22,
   "metadata": {
    "id": "4FsYB17d07b2"
   },
   "outputs": [],
   "source": [
    "#Visualizing relation between Price and City\n",
    "\n",
    "city = train_data.groupby('CITY')['PRICE'].mean().reset_index().sort_values(by='PRICE',ascending =False)"
   ]
  },
  {
   "cell_type": "code",
   "execution_count": 23,
   "metadata": {
    "colab": {
     "base_uri": "https://localhost:8080/",
     "height": 1000
    },
    "id": "ptF1xtqj1Xkg",
    "outputId": "862f9868-1582-4edf-ca91-ff28a23da66e"
   },
   "outputs": [
    {
     "data": {
      "text/plain": [
       "<Figure size 1080x2880 with 0 Axes>"
      ]
     },
     "execution_count": 23,
     "metadata": {},
     "output_type": "execute_result"
    },
    {
     "data": {
      "text/plain": [
       "<matplotlib.axes._subplots.AxesSubplot at 0x2d917c76ac0>"
      ]
     },
     "execution_count": 23,
     "metadata": {},
     "output_type": "execute_result"
    },
    {
     "data": {
      "image/png": "[encoded data removed]",
      "text/plain": [
       "<Figure size 1080x2880 with 1 Axes>"
      ]
     },
     "metadata": {},
     "output_type": "display_data"
    }
   ],
   "source": [
    "plt.figure(figsize=(15,40))\n",
    "sns.barplot(x='PRICE',y='CITY',data=city)"
   ]
  },
  {
   "cell_type": "code",
   "execution_count": 24,
   "metadata": {
    "id": "LdhRI4x3Yuhv"
   },
   "outputs": [],
   "source": [
    "#Creating a new feature CITY_BIN after grouping citys on basis of avarage huse price in train\n",
    "\n",
    "train_data['CITY_BIN']=train_data.CITY.apply( lambda x: 10 if x=='Gurgaon' else ( \n",
    "9 if x in ('Vidisha','Maharashtra') else (\n",
    "8 if x in ('Mumbai','Lalitpur') else (  \n",
    "7 if x in ('Goa')  else (\n",
    "6 if x in ('Bangalore','Chennai','Hathras','Pune','Ranchi','Kochi','Noida','Erode','Nizamabad','Jalgaon','Mohali','Panaji','Kanpur','Kottayam','Chandigarh') else (\n",
    "5 if x in ('Kolkata','Srinagar','Hassan','Lucknow','Arrah','Bhadrak','Idukki','Panchkula','Sagar','Faizabad','Jammu','Ludhiana') else (\n",
    "4 if x in ('Udaipur','Phagwara','Coimbatore','Salem','Ernakulam','Nagpur','Mangalore','Visakhapatnam','Karwar','Shimla','Dehradun','Mysore','Varanasi','Haldwani','Surat',\n",
    "           'Bhubaneswar','Jajpur','Nainital','Kollam','Ambala','Beed','Faridabad','Patna','Kannur','Jaipur','Thrissur','Secunderabad','Dibrugarh','Ghaziabad','Vadodara',\n",
    "           'Kadapa','Darbhanga','Agartala','Cuttack','Rourkela','Tirupati','Allahabad','Vellore','Jalandhar','Guwahati','Rohtak','Pondicherry','Jabalpur')else (\n",
    "3 if x in ('Roorkee','Silchar',\n",
    "           'Kangra','Ottapalam','Dahod','Vijayawada','Kota','Warangal','Madurai','Sonipat','Tirunelveli','Dalhousie','Rajkot','Berhampur','Dharwad','Palakkad','Jind',\n",
    "           'Bardhaman','Margao','Balasore','Patiala','Chittoor','Jagdalpur','Kakinada','Jodhpur','Eluru','Amritsar','Belgaum','Indore','Bahadurgarh','Bhimavaram','Anand',\n",
    "           'Guntur','Gandhinagar','Pathanamthitta','Thoothukudi','Jamshedpur','Gaya','Aligarh','Bareilly','Darjeeling','Raigarh','Udupi','Srikakulam','Agra','Rewa','Bhagalpur',\n",
    "           'Bharatpur','Bikaner','Ooty','Rewari','Rishikesh','Gwalior','Satna','Durg','Raichur','Nagaon','Moradabad','Siliguri','Jhunjhunu','Kolhapur','Karaikudi','Dharuhera',\n",
    "           'Muzaffarpur','Ajmer','Jhansi','Hazaribagh','Solapur','Siwan','Amravati','Raipur') else (\n",
    "2 if x in ('Angul','Nagaur','Gulbarga','Kanchipuram','Deoghar','Ongole','Hubli','Solan','Nellore','Amroha','Rajnandgaon','Surendranagar','Akola','Tenali','Latur','Karnal','Aurangabad',\n",
    "           'Bhopal','Gadhinglaj','Dhanbad','Bilaspur','Meerut','Sindhudurg','Bokaro','Haldia','Raisen','Kotdwara','Rajpura','Hoshangabad','Raigad','Chhindwara','Mathura','Porbandar',\n",
    "           'Kurnool','Morbi','Palwal','Nagapattinam','Sambalpur','Kurukshetra','Jamnagar','Haridwar','Hoshiarpur','Thanjavur','Alwar','Asansol','Nanded','Navsari','Bhilai','Valsad',\n",
    "           'Jalna','Dhule','Vizianagaram','Washim','Gandhidham','Chandrapur','Baddi','Bhiwadi','Gondia','Osmanabad','Betul','Rayagada','Pudukkottai','Neemrana','Siddipet','Kadi',\n",
    "           'Vapi','Wardha','Puri','Malappuram','Bharuch','Jharsuguda','Ratnagiri','Durgapur','Kharagpur','Junagadh','Palanpur','Palghar','Ujjain','Rudrapur','Machilipatnam',\n",
    "           'Visnagar','Bhavnagar','Hosur','Yavatmal','Karjat','Bhandara','Anantapur','Sikar','Shirdi','Nadiad','Gadarwara','Midnapore','Godhra','Panipat','Karad','Bhiwani','Hapur',\n",
    "           'Sabarkantha','Harda','Banswara') else (\n",
    "1\n",
    "\n",
    "))))))))))"
   ]
  },
  {
   "cell_type": "code",
   "execution_count": 25,
   "metadata": {
    "id": "_Mzwoc8TFAzy"
   },
   "outputs": [],
   "source": [
    "#Extracting city name from ADDRESS filed and creating new feature CITY in test\n",
    "\n",
    "test_data['CITY'] = test_data.ADDRESS.apply(lambda x: x.split(',')[-1])"
   ]
  },
  {
   "cell_type": "code",
   "execution_count": 26,
   "metadata": {
    "id": "TzLS8KE9dUQ_"
   },
   "outputs": [],
   "source": [
    "#Creating a new feature CITY_BIN after grouping citys on basis of avarage huse price in test\n",
    "\n",
    "test_data['CITY_BIN']=test_data.CITY.apply( lambda x: 10 if x=='Gurgaon' else ( \n",
    "9 if x in ('Vidisha','Maharashtra') else (\n",
    "8 if x in ('Mumbai','Lalitpur') else (  \n",
    "7 if x in ('Goa')  else (\n",
    "6 if x in ('Bangalore','Chennai','Hathras','Pune','Ranchi','Kochi','Noida','Erode','Nizamabad','Jalgaon','Mohali','Panaji','Kanpur','Kottayam','Chandigarh') else (\n",
    "5 if x in ('Kolkata','Srinagar','Hassan','Lucknow','Arrah','Bhadrak','Idukki','Panchkula','Sagar','Faizabad','Jammu','Ludhiana') else (\n",
    "4 if x in ('Udaipur','Phagwara','Coimbatore','Salem','Ernakulam','Nagpur','Mangalore','Visakhapatnam','Karwar','Shimla','Dehradun','Mysore','Varanasi','Haldwani','Surat',\n",
    "           'Bhubaneswar','Jajpur','Nainital','Kollam','Ambala','Beed','Faridabad','Patna','Kannur','Jaipur','Thrissur','Secunderabad','Dibrugarh','Ghaziabad','Vadodara',\n",
    "           'Kadapa','Darbhanga','Agartala','Cuttack','Rourkela','Tirupati','Allahabad','Vellore','Jalandhar','Guwahati','Rohtak','Pondicherry','Jabalpur')else (\n",
    "3 if x in ('Roorkee','Silchar',\n",
    "           'Kangra','Ottapalam','Dahod','Vijayawada','Kota','Warangal','Madurai','Sonipat','Tirunelveli','Dalhousie','Rajkot','Berhampur','Dharwad','Palakkad','Jind',\n",
    "           'Bardhaman','Margao','Balasore','Patiala','Chittoor','Jagdalpur','Kakinada','Jodhpur','Eluru','Amritsar','Belgaum','Indore','Bahadurgarh','Bhimavaram','Anand',\n",
    "           'Guntur','Gandhinagar','Pathanamthitta','Thoothukudi','Jamshedpur','Gaya','Aligarh','Bareilly','Darjeeling','Raigarh','Udupi','Srikakulam','Agra','Rewa','Bhagalpur',\n",
    "           'Bharatpur','Bikaner','Ooty','Rewari','Rishikesh','Gwalior','Satna','Durg','Raichur','Nagaon','Moradabad','Siliguri','Jhunjhunu','Kolhapur','Karaikudi','Dharuhera',\n",
    "           'Muzaffarpur','Ajmer','Jhansi','Hazaribagh','Solapur','Siwan','Amravati','Raipur') else (\n",
    "2 if x in ('Angul','Nagaur','Gulbarga','Kanchipuram','Deoghar','Ongole','Hubli','Solan','Nellore','Amroha','Rajnandgaon','Surendranagar','Akola','Tenali','Latur','Karnal','Aurangabad',\n",
    "           'Bhopal','Gadhinglaj','Dhanbad','Bilaspur','Meerut','Sindhudurg','Bokaro','Haldia','Raisen','Kotdwara','Rajpura','Hoshangabad','Raigad','Chhindwara','Mathura','Porbandar',\n",
    "           'Kurnool','Morbi','Palwal','Nagapattinam','Sambalpur','Kurukshetra','Jamnagar','Haridwar','Hoshiarpur','Thanjavur','Alwar','Asansol','Nanded','Navsari','Bhilai','Valsad',\n",
    "           'Jalna','Dhule','Vizianagaram','Washim','Gandhidham','Chandrapur','Baddi','Bhiwadi','Gondia','Osmanabad','Betul','Rayagada','Pudukkottai','Neemrana','Siddipet','Kadi',\n",
    "           'Vapi','Wardha','Puri','Malappuram','Bharuch','Jharsuguda','Ratnagiri','Durgapur','Kharagpur','Junagadh','Palanpur','Palghar','Ujjain','Rudrapur','Machilipatnam',\n",
    "           'Visnagar','Bhavnagar','Hosur','Yavatmal','Karjat','Bhandara','Anantapur','Sikar','Shirdi','Nadiad','Gadarwara','Midnapore','Godhra','Panipat','Karad','Bhiwani','Hapur',\n",
    "           'Sabarkantha','Harda','Banswara') else (\n",
    "1\n",
    "\n",
    "))))))))))"
   ]
  },
  {
   "cell_type": "code",
   "execution_count": 27,
   "metadata": {
    "id": "LqljeZhv9SiU"
   },
   "outputs": [],
   "source": [
    "#Creating new feature 'SQUARE_FT_BIN' on basis of PRICE\n",
    "\n",
    "train_data['SQUARE_FT_BIN'] =train_data['SQUARE_FT'].apply(lambda x: 1 if x < 500 else(\n",
    "    2 if x <800 and x >=500 else (\n",
    "    3 if x <1000 and x >=800 else (\n",
    "    4 if x < 1300 and x >=1000 else (\n",
    "    5 if x <2000 and x >= 1300 else (\n",
    "    6 if x<3000 and x>=2000 else 7\n",
    "    ))))))"
   ]
  },
  {
   "cell_type": "code",
   "execution_count": 28,
   "metadata": {
    "colab": {
     "base_uri": "https://localhost:8080/"
    },
    "id": "TNgcSDRu_BMu",
    "outputId": "8df986f3-fd28-483d-a3d9-92c5ca9be4c3"
   },
   "outputs": [
    {
     "data": {
      "text/plain": [
       "SQUARE_FT_BIN\n",
       "1      41.441292\n",
       "2      51.739214\n",
       "3      62.746382\n",
       "4      73.822448\n",
       "5     108.719762\n",
       "6     217.633238\n",
       "7    1540.497133\n",
       "Name: PRICE, dtype: float64"
      ]
     },
     "execution_count": 28,
     "metadata": {},
     "output_type": "execute_result"
    }
   ],
   "source": [
    "train_data.groupby('SQUARE_FT_BIN')['PRICE'].mean()"
   ]
  },
  {
   "cell_type": "code",
   "execution_count": 29,
   "metadata": {
    "id": "1P-fWstO_RJK"
   },
   "outputs": [],
   "source": [
    "#Creating a new feature combining AREA and CITY so that we can capture variation of Price per city area wise.\n",
    "\n",
    "train_data['AREA_CITY'] = train_data['CITY'] + train_data['SQUARE_FT_BIN'].astype(str)"
   ]
  },
  {
   "cell_type": "code",
   "execution_count": 30,
   "metadata": {
    "colab": {
     "base_uri": "https://localhost:8080/",
     "height": 266
    },
    "id": "3ykTPfNT_PaJ",
    "outputId": "416c9a1c-098d-47db-ffc8-8003cced7353"
   },
   "outputs": [
    {
     "data": {
      "text/html": [
       "<div>\n",
       "<style scoped>\n",
       "    .dataframe tbody tr th:only-of-type {\n",
       "        vertical-align: middle;\n",
       "    }\n",
       "\n",
       "    .dataframe tbody tr th {\n",
       "        vertical-align: top;\n",
       "    }\n",
       "\n",
       "    .dataframe thead th {\n",
       "        text-align: right;\n",
       "    }\n",
       "</style>\n",
       "<table border=\"1\" class=\"dataframe\">\n",
       "  <thead>\n",
       "    <tr style=\"text-align: right;\">\n",
       "      <th></th>\n",
       "      <th>POSTED_BY</th>\n",
       "      <th>UNDER_CONSTRUCTION</th>\n",
       "      <th>RERA</th>\n",
       "      <th>BHK_NO.</th>\n",
       "      <th>BHK_OR_RK</th>\n",
       "      <th>SQUARE_FT</th>\n",
       "      <th>READY_TO_MOVE</th>\n",
       "      <th>RESALE</th>\n",
       "      <th>ADDRESS</th>\n",
       "      <th>LONGITUDE</th>\n",
       "      <th>LATITUDE</th>\n",
       "      <th>PRICE</th>\n",
       "      <th>POSTED_BY_Builder</th>\n",
       "      <th>POSTED_BY_Dealer</th>\n",
       "      <th>POSTED_BY_Owner</th>\n",
       "      <th>CITY</th>\n",
       "      <th>CITY_BIN</th>\n",
       "      <th>SQUARE_FT_BIN</th>\n",
       "      <th>AREA_CITY</th>\n",
       "    </tr>\n",
       "  </thead>\n",
       "  <tbody>\n",
       "    <tr>\n",
       "      <th>0</th>\n",
       "      <td>Owner</td>\n",
       "      <td>0</td>\n",
       "      <td>0</td>\n",
       "      <td>2</td>\n",
       "      <td>2</td>\n",
       "      <td>1300.236407</td>\n",
       "      <td>1</td>\n",
       "      <td>1</td>\n",
       "      <td>Ksfc Layout,Bangalore</td>\n",
       "      <td>12.969910</td>\n",
       "      <td>77.597960</td>\n",
       "      <td>55.0</td>\n",
       "      <td>0</td>\n",
       "      <td>0</td>\n",
       "      <td>1</td>\n",
       "      <td>Bangalore</td>\n",
       "      <td>6</td>\n",
       "      <td>5</td>\n",
       "      <td>Bangalore5</td>\n",
       "    </tr>\n",
       "    <tr>\n",
       "      <th>1</th>\n",
       "      <td>Dealer</td>\n",
       "      <td>0</td>\n",
       "      <td>0</td>\n",
       "      <td>2</td>\n",
       "      <td>2</td>\n",
       "      <td>1275.000000</td>\n",
       "      <td>1</td>\n",
       "      <td>1</td>\n",
       "      <td>Vishweshwara Nagar,Mysore</td>\n",
       "      <td>12.274538</td>\n",
       "      <td>76.644605</td>\n",
       "      <td>51.0</td>\n",
       "      <td>0</td>\n",
       "      <td>1</td>\n",
       "      <td>0</td>\n",
       "      <td>Mysore</td>\n",
       "      <td>4</td>\n",
       "      <td>4</td>\n",
       "      <td>Mysore4</td>\n",
       "    </tr>\n",
       "    <tr>\n",
       "      <th>2</th>\n",
       "      <td>Owner</td>\n",
       "      <td>0</td>\n",
       "      <td>0</td>\n",
       "      <td>2</td>\n",
       "      <td>2</td>\n",
       "      <td>933.159722</td>\n",
       "      <td>1</td>\n",
       "      <td>1</td>\n",
       "      <td>Jigani,Bangalore</td>\n",
       "      <td>12.778033</td>\n",
       "      <td>77.632191</td>\n",
       "      <td>43.0</td>\n",
       "      <td>0</td>\n",
       "      <td>0</td>\n",
       "      <td>1</td>\n",
       "      <td>Bangalore</td>\n",
       "      <td>6</td>\n",
       "      <td>3</td>\n",
       "      <td>Bangalore3</td>\n",
       "    </tr>\n",
       "    <tr>\n",
       "      <th>3</th>\n",
       "      <td>Owner</td>\n",
       "      <td>0</td>\n",
       "      <td>1</td>\n",
       "      <td>2</td>\n",
       "      <td>2</td>\n",
       "      <td>929.921143</td>\n",
       "      <td>1</td>\n",
       "      <td>1</td>\n",
       "      <td>Sector-1 Vaishali,Ghaziabad</td>\n",
       "      <td>28.642300</td>\n",
       "      <td>77.344500</td>\n",
       "      <td>62.5</td>\n",
       "      <td>0</td>\n",
       "      <td>0</td>\n",
       "      <td>1</td>\n",
       "      <td>Ghaziabad</td>\n",
       "      <td>4</td>\n",
       "      <td>3</td>\n",
       "      <td>Ghaziabad3</td>\n",
       "    </tr>\n",
       "    <tr>\n",
       "      <th>4</th>\n",
       "      <td>Dealer</td>\n",
       "      <td>1</td>\n",
       "      <td>0</td>\n",
       "      <td>2</td>\n",
       "      <td>2</td>\n",
       "      <td>999.009247</td>\n",
       "      <td>0</td>\n",
       "      <td>1</td>\n",
       "      <td>New Town,Kolkata</td>\n",
       "      <td>22.592200</td>\n",
       "      <td>88.484911</td>\n",
       "      <td>60.5</td>\n",
       "      <td>0</td>\n",
       "      <td>1</td>\n",
       "      <td>0</td>\n",
       "      <td>Kolkata</td>\n",
       "      <td>5</td>\n",
       "      <td>3</td>\n",
       "      <td>Kolkata3</td>\n",
       "    </tr>\n",
       "  </tbody>\n",
       "</table>\n",
       "</div>"
      ],
      "text/plain": [
       "  POSTED_BY  UNDER_CONSTRUCTION  RERA  BHK_NO.  BHK_OR_RK    SQUARE_FT  \\\n",
       "0     Owner                   0     0        2          2  1300.236407   \n",
       "1    Dealer                   0     0        2          2  1275.000000   \n",
       "2     Owner                   0     0        2          2   933.159722   \n",
       "3     Owner                   0     1        2          2   929.921143   \n",
       "4    Dealer                   1     0        2          2   999.009247   \n",
       "\n",
       "   READY_TO_MOVE  RESALE                      ADDRESS  LONGITUDE   LATITUDE  \\\n",
       "0              1       1        Ksfc Layout,Bangalore  12.969910  77.597960   \n",
       "1              1       1    Vishweshwara Nagar,Mysore  12.274538  76.644605   \n",
       "2              1       1             Jigani,Bangalore  12.778033  77.632191   \n",
       "3              1       1  Sector-1 Vaishali,Ghaziabad  28.642300  77.344500   \n",
       "4              0       1             New Town,Kolkata  22.592200  88.484911   \n",
       "\n",
       "   PRICE  POSTED_BY_Builder  POSTED_BY_Dealer  POSTED_BY_Owner       CITY  \\\n",
       "0   55.0                  0                 0                1  Bangalore   \n",
       "1   51.0                  0                 1                0     Mysore   \n",
       "2   43.0                  0                 0                1  Bangalore   \n",
       "3   62.5                  0                 0                1  Ghaziabad   \n",
       "4   60.5                  0                 1                0    Kolkata   \n",
       "\n",
       "   CITY_BIN  SQUARE_FT_BIN   AREA_CITY  \n",
       "0         6              5  Bangalore5  \n",
       "1         4              4     Mysore4  \n",
       "2         6              3  Bangalore3  \n",
       "3         4              3  Ghaziabad3  \n",
       "4         5              3    Kolkata3  "
      ]
     },
     "execution_count": 30,
     "metadata": {},
     "output_type": "execute_result"
    }
   ],
   "source": [
    "train_data.head()"
   ]
  },
  {
   "cell_type": "code",
   "execution_count": 31,
   "metadata": {
    "colab": {
     "base_uri": "https://localhost:8080/"
    },
    "id": "hr8AkGJo_23P",
    "outputId": "80967f65-1173-4876-adcb-ec7f2ad1b83b"
   },
   "outputs": [
    {
     "data": {
      "text/plain": [
       "array(['Kolkata3', 'Kolkata2', 'Kolkata5', 'Kolkata4', 'Kolkata7',\n",
       "       'Kolkata6', 'Kolkata1'], dtype=object)"
      ]
     },
     "execution_count": 31,
     "metadata": {},
     "output_type": "execute_result"
    }
   ],
   "source": [
    "#Checking the value for a perticular city(here kolkata)\n",
    "train_data[train_data['CITY']=='Kolkata'].AREA_CITY.unique()"
   ]
  },
  {
   "cell_type": "code",
   "execution_count": 32,
   "metadata": {
    "id": "LK5vKJtvA0t4"
   },
   "outputs": [],
   "source": [
    "city_area = train_data.groupby('AREA_CITY')['PRICE'].mean().reset_index().sort_values(by='PRICE',ascending =False)"
   ]
  },
  {
   "cell_type": "code",
   "execution_count": 33,
   "metadata": {
    "id": "FPk2cXAGE46L"
   },
   "outputs": [],
   "source": [
    "#Bining AREA_CITY feature under a new feature AREA_CITY_BIN in train\n",
    "\n",
    "train_data['AREA_CITY_BIN']= train_data['AREA_CITY'].apply(lambda x: 16 if x in ('Ranchi7','Nagpur7','Chennai7','Mumbai7','Maharashtra7','Goa7','Lalitpur7','Chandigarh7',\n",
    "          'Pune7','Bangalore7','Kanpur7','Gurgaon7','Lucknow7','Kolkata7','Kochi7','Mohali7','Noida7','Maharashtra6','Kottayam7','Lalitpur6','Mumbai6','Visakhapatnam7') else (\n",
    "15 if x in ('Vadodara7','Udaipur7','Vidisha7','Mangalore7','Mumbai5','Surat7','Maharashtra5','Lalitpur5','Erode7','Panchkula7','Faridabad7','Panaji6','Kanpur6','Sindhudurg6',\n",
    "            'Bhubaneswar7') else (\n",
    "14 if x in ('Bangalore6','Pune6','Jalgaon2','Siliguri7','Chennai6','Coimbatore7','Gurgaon6','Jaipur7','Kolkata6','Jodhpur6','Ahmednagar1','Kochi6','Nagpur6','Indore7','Panaji7',\n",
    "            'Mumbai4','Panaji5','Maharashtra4','Ernakulam6','Noida6','Lalitpur4') else (\n",
    "13 if x in ('Patna6','Haldwani7','Coimbatore6','Varanasi7','Ghaziabad7','Mysore6','Durg7','Hathras5','Maharashtra3','Ghaziabad6','Mumbai3','Lalitpur3','Vijayawada6','Latur6','Idukki6',\n",
    "            'Amritsar6','Guwahati6','Jaipur6') else (\n",
    "12 if x in ('Mangalore6','Lucknow6','Ranchi6','Secunderabad7','Visakhapatnam6','Pune5','Nizamabad7','Goa6','Ludhiana6','Gurgaon5','Shimla6','Sonipat7','Jamshedpur7','Kota6',\n",
    "            'Bhubaneswar6','Thrissur7','Panchkula6','Mohali6','Surat6','Udaipur6','Dehradun6','Bangalore5','Rajkot6') else (\n",
    "11 if x in ('Karwar5','Anand2','Rajkot5','Ludhiana7','Chennai5','Bhopal7','Thrissur6','Indore6','Arrah5','Shimla5','Kottayam6','Secunderabad6','Kolkata5','Maharashtra2','Agra6',\n",
    "            'Chandigarh6','Anand7','Hassan5','Srinagar5','Belgaum6','Faridabad6','Mumbai2','Nainital7','Gurgaon4','Udupi6','Nainital4','Jabalpur5','Panaji4','Udupi7','Noida5',\n",
    "            'Dehradun7','Goa5','Bardhaman6','Bhadrak7','Kollam2','Tirunelveli6','Jalandhar7','Lalitpur2','Jammu5','Vadodara6','Allahabad5','Gandhinagar7') else (\n",
    "10 if x in ('Varanasi5','Kanpur5','Kolhapur6','Jamshedpur6','Valsad7','Sagar6','Dharuhera6','Kottayam5','Sonipat6','Kochi5','Coimbatore5','Madurai5','Panchkula5','Kollam5',\n",
    "            'Nagpur5','Pondicherry5','Pune4','Ludhiana5','Solapur5','Kanchipuram5','Faizabad6','Margao5','Arrah4','Ernakulam5','Tirupati6','Ghaziabad5','Thrissur5','Bhubaneswar5',\n",
    "            'Kakinada5','Gandhinagar6','Siliguri6','Mangalore5','Aurangabad5','Gurgaon3','Bhopal6','Visakhapatnam5','Goa4','Hubli6','Solan6','Phagwara7','Mysore5','Dehradun5',\n",
    "            'Lucknow5','Salem4','Salem5','Shimla4','Junagadh7','Secunderabad5','Jalandhar6','Kota7','Moradabad6','Navsari6','Rohtak6','Belgaum5','Kannur5','Mumbai1','Bareilly5',\n",
    "            'Vijayawada5','Guwahati5','Mohali5') else (\n",
    "9 if x in ('Patna5','Dalhousie5','Gwalior6','Lalitpur1','Gandhinagar5','Bangalore4','Chandigarh5','Chennai4','Panchkula4','Raigad5','Maharashtra1','Bahadurgarh6','Raipur6','Rewari6',\n",
    "           'Haldwani5','Jajpur5','Ranchi5','Jhansi5','Raigad6','Ahmednagar5','Pondicherry7','Vapi6','Jammu4','Surat5','Erode3','Jaipur3','Udaipur5','Kadapa5','Udupi5','Ambala7',\n",
    "           'Faridabad5','Varanasi4','Rudrapur6','Rohtak5','Cuttack4','Palakkad5','Guntur5','Mysore3','Beed7','Berhampur5','Solan5','Bikaner5','Jaipur5','Mysore4','Meerut6') else (\n",
    "8 if x in ('Hubli5','Kolkata4','Jammu7','Warangal5','Noida4','Dibrugarh4','Bikaner7','Gwalior1','Ajmer6','Bharuch7','Margao4','Jodhpur5','Chandigarh4','Madurai4','Bardhaman5',\n",
    "           'Tirunelveli5','Ambala6','Tirupati5','Pune3','Cuttack5','Darbhanga4','Kottayam4','Indore5','Eluru5','Gulbarga5','Agartala3','Roorkee4','Agra5','Rajkot3','Ludhiana3',\n",
    "           'Patna4','Dharwad5','Rourkela5','Panaji3','Srikakulam5','Jodhpur4','Bhimavaram5','Vellore4','Jalandhar5','Kota5','Bhagalpur5','Amravati5','Jamshedpur5','Bhilai6',\n",
    "           'Tirupati4','Muzaffarpur5') else (\n",
    "7 if x in ('Coimbatore4','Rajkot4','Bahadurgarh5','Kolhapur4','Ottapalam5','Nainital5','Kollam4','Kangra7','Ratnagiri6','Silchar5','Moradabad5','Dahod4','Kochi4','Asansol5','Sonipat5',\n",
    "           'Gaya5','Goa3','Kadapa4','Kannur4','Allahabad4','Raigarh4','Siliguri5','Ajmer5','Patna1','Palghar5','Aligarh6','Pondicherry4','Ludhiana4','Dehradun4','Mysore2','Vadodara5',\n",
    "           'Akola5','Kanchipuram4','Pathanamthitta5','Secunderabad4','Hoshangabad3','Aligarh5','Amritsar5','Chennai3','Karnal5','Thrissur4','Mangalore4','Kanpur4','Raipur5','Jind5',\n",
    "           'Lucknow4','Ghaziabad4','Hosur5','Akola4','Thoothukudi4','Aurangabad4','Ernakulam4','Bangalore3','Jalgaon4','Jagdalpur5','Ujjain5','Karjat4','Chittoor4','Patiala5',\n",
    "           'Bardhaman4','Bilaspur2','Balasore4','Satna4','Roorkee3','Dalhousie3','Anantapur5','Allahabad3','Gwalior5','Bhavnagar5','Jabalpur4','Guwahati4','Kanchipuram3','Cuttack3',\n",
    "           'Vizianagaram5','Bhubaneswar4','Kolkata3','Durg5','Dharwad4','Tirunelveli4','Bharuch5','Rishikesh4','Gandhidham4','Haridwar5','Nagpur4','Junagadh5','Ranchi4','Meerut5',\n",
    "           'Eluru4','Jamnagar5','Guntur4','Rewari5','Nellore6','Hazaribagh5','Vapi5','Sonipat2','Bhimavaram4','Darjeeling5','Raigad4','Jalna5','Nellore5','Belgaum4','Shimla2',\n",
    "           'Varanasi3','Shimla3','Bhopal5','Pondicherry3','Neemrana5','Alwar5','Ongole5','Jalgaon1') else (\n",
    "6 if x in ('Jamshedpur4','Faridabad4','Goa1','Rewa4','Anand6','Sikar5','Satna5','Bharatpur5','Kota4','Ooty2','Bareilly4','Mathura5','Pune2','Noida3','Dharuhera5','Durgapur5',\n",
    "           'Kakinada4','Idukki5','Wardha5','Gandhidham5','Jalgaon3','Guwahati3','Coimbatore3','Kanpur3','Vijayawada4','Visakhapatnam4','Kochi3','Tenali5','Udupi4','Dehradun3',\n",
    "           'Gandhinagar4','Patna3','Dhanbad5','Goa2','Raichur5','Nagaon4','Bhiwadi6','Morbi4','Belgaum3','Ajmer4','Mohali4','Ahmednagar4','Palghar4','Surat4','Jhunjhunu5','Panaji2',\n",
    "           'Nainital2','Haridwar4','Udaipur4','Thoothukudi3','Mathura3','Palakkad4','Chandigarh3','Karaikudi4','Solapur4','Bahadurgarh4','Gwalior4','Valsad5','Bangalore1','Bangalore2',\n",
    "           'Ernakulam3','Lucknow3','Tirunelveli3','Muzaffarpur4','Amritsar4','Vijayawada7','Puri3','Madurai3','Thanjavur5','Bhagalpur4','Thanjavur3','Bilaspur5','Amravati3','Pathanamthitta4',\n",
    "           'Bhiwadi5','Agra7','Gaya4','Mangalore3','Siwan5','Secunderabad3','Bokaro5','Jabalpur3','Kolhapur3','Hoshiarpur5','Chandrapur5','Nagaur3','Angul3','Berhampur4','Gadhinglaj3',\n",
    "           'Kharagpur4','Kakinada3','Srikakulam4','Gwalior3','Dalhousie2','Tenali4','Margao3','Kannur3','Jaipur4','Solapur3','Rohtak4','Ranchi3','Chennai2','Solan4','Jhansi4',\n",
    "           'Ratnagiri4','Ahmednagar3','Deoghar4','Visakhapatnam3','Raigad3','Ghaziabad3','Aligarh4','Bhubaneswar3','Agra4','Bhilai5','Vapi4','Amravati4','Amravati2','Thrissur3',\n",
    "           'Hubli4','Rajnandgaon4','Berhampur3','Madurai2','Jalandhar4','Surendranagar5','Amroha4','Nellore4','Bhopal4','Nagpur3','Ratnagiri3','Jodhpur3','Ernakulam2','Varanasi2',\n",
    "           'Gurgaon2','Siliguri4','Indore4','Nainital3','Dharuhera3','Raipur4','Neemrana3','Vadodara4','Bardhaman3','Dhule4','Sonipat4','Guwahati2','Neemrana4','Rajkot2','Gulbarga4',\n",
    "           'Kolhapur2','Raigarh2','Navsari5','Kota3','Moradabad4','Anand5','Surat2','Dharuhera4','Belgaum2','Palakkad3','Meerut4') else (   \n",
    "5 if x in ('Gadhinglaj4','Faridabad3','Bilaspur4','Hazaribagh4','Allahabad2','Haridwar3','Raisen5','Kotdwara4','Nanded2','Warangal4','Sindhudurg3','Nanded3','Karnal3','Ongole4','Aurangabad3',\n",
    "           'Haldia3','Satna3','Rajpura5','Panipat6','Udaipur3','Bhubaneswar2','Palwal4','Palghar3','Jamshedpur3','Vijayawada3','Porbandar2','Chhindwara2','Pune1','Karnal7','Porbandar5',\n",
    "           'Karwar4','Kurnool4','Rishikesh3','Chandrapur2','Udupi3','Chandrapur4','Jodhpur2','Vizianagaram4','Jamnagar4','Tirupati3','Alwar4','Noida2','Bilaspur3','Panchkula2',\n",
    "           'Kurukshetra1','Gaya3','Kadi5','Hapur4','Nagapattinam2','Palwal5','Moradabad3','Sambalpur4','Kanpur2','Dhanbad4','Bahadurgarh3','Hubli3','Ghaziabad2','Gwalior2','Sonipat3',\n",
    "           'Kochi2','Coimbatore2','Aurangabad6','Bhiwadi4','Latur3','Durgapur4','Kolkata2','Karnal4','Godhra4','Puri2','Sindhudurg4','Ongole3','Latur4','Raipur3','Faridabad2','Asansol4',\n",
    "           'Mathura4','Lucknow2','Meerut3','Wardha4','Nagpur2','Dhanbad3','Raigad2','Dhule3','Guntur3','Jalandhar3','Solan3','Baddi4','Washim3','Indore3','Gulbarga3','Morbi3',\n",
    "           'Mangalore2','Siliguri3') else (\n",
    "4 if x in ('Palakkad2','Rudrapur4','Ranchi2','Agra3','Bharuch4','Anand4','Rayagada3','Pondicherry2','Pudukkottai2','Betul4','Baddi2','Yavatmal3','Margao2','Hosur3','Durg4','Gondia4',\n",
    "           'Chandigarh1','Osmanabad2','Bhavnagar6','Aurangabad2','Siddipet3','Surat3','Meerut1','Vadodara3','Gandhinagar3','Dehradun2','Asansol3','Navsari4','Chennai1','Shirdi2',\n",
    "           'Bhilai4','Malappuram2','Nadiad4','Bhandara4','Jharsuguda5','Nanded4','Thrissur2','Valsad4','Vijayawada2','Tenali3','Durg2','Visakhapatnam2','Secunderabad1','Gandhinagar2',\n",
    "           'Bhopal3','Amritsar2','Jabalpur2','Eluru3','Kota2','Karjat3','Palanpur4','Karad4','Thanjavur4','Guwahati1','Hubli2','Chandigarh2','Latur7','Kharagpur3','Karad3','B',\n",
    "           'hopal2','Bokaro4','Aligarh3','Rewari4','Jamnagar3','Mohali2','Machilipatnam2','Dhanbad2','Visnagar4','Karnal2','Jabalpur1','Patna2','Bahadurgarh2','Bhavnagar3','Akola2',\n",
    "           'Vizianagaram3','Noida1','Nellore3','Rudrapur3','Agra2','Palwal3','Hazaribagh3','Rewari2','Hoshangabad4','Nadiad3','Kadi4','Jhansi2') else (\n",
    "3 if x in ('Bhiwadi3','Haridwar2','Bhavnagar4','Mohali3','Anand3','Ahmednagar2','Dehradun1','Durgapur3','Palghar2','Junagadh3','Kanchipuram2','Midnapore2','Meerut7','Gadarwara2',\n",
    "           'Haldwani2','Morbi2','Solan2','Haldwani3','Hoshiarpur7','Guntur2','Vadodara2','Valsad3','Varanasi1','Siliguri2','Jamshedpur2','Raigad1','Vapi3','Navsari2','Udupi2',\n",
    "           'Sindhudurg2','Panchkula1','Jaipur2','Ratnagiri2','Durg3','Ujjain2','Karjat2','Secunderabad2','Ajmer3','Coimbatore1','Kolhapur1','Mathura2','Gandhidham3','Rajkot1',\n",
    "           'Solapur2','Jalna2','Latur2','Ghaziabad1','Faridabad1','Sonipat1','Lucknow1','Nadiad2','Durgapur2','Yavatmal2','Jalgaon5','Kollam3','Palghar1','Bharuch3','Vapi2',\n",
    "           'Chandrapur3','Valsad2','Kharagpur2','Ludhiana2','Gandhinagar1','Neemrana1','Karjat1','Raipur2','Mangalore1','Bhiwani2','Bhopal1','Wardha3','Thrissur1','Karad2','Junagadh4',\n",
    "           'Jamnagar2','Sabarkantha3','Indore2','Udaipur2','Junagadh2','Neemrana2','Visakhapatnam1','Kolkata1','Bhavnagar2','Ranchi1','Banswara2','Harda2','Allahabad1') else (\n",
    "2 if x in ('Vadodara1','Dhule2','Meerut2','Dharuhera2','Bhilai1','Bhiwadi2','Bhandara3','Bhilai3','Anantapur2','Nagpur1','Panipat1','Amravati1','Gandhidham2','Thanjavur2','Karad1',\n",
    "           'Barabanki2','Nainital1','Wardha2','Nellore1','Madurai1','Shirdi1','Bharuch1','Agra1','Jaipur1','Mohali1','Valsad1','Haridwar1','Nellore2','Moradabad2','Ajmer2','Bharuch2',\n",
    "           'Gandhidham1','Sindhudurg1','Gurdaspur2','Bhiwadi1','Panipat4','Jalandhar2','Rudrapur2','Puri1','Sikar2','Asansol2','Ratnagiri1','Solan1','Gurgaon1','Kanchipuram1',\n",
    "           'Ujjain1','Godhra2','Jodhpur1','Alwar1','Vizianagaram2','Hosur4','Aurangabad1','Siliguri1','Jamnagar1','Udaipur1','Hapur1','Kanpur1','Bhilai2') else 1\n",
    ")))))))))))))))"
   ]
  },
  {
   "cell_type": "code",
   "execution_count": 34,
   "metadata": {
    "id": "chAQx87DewmE"
   },
   "outputs": [],
   "source": [
    "#Creating new feature 'SQUARE_FT_BIN' on basis of PRICE\n",
    "\n",
    "test_data['SQUARE_FT_BIN'] =test_data['SQUARE_FT'].apply(lambda x: 1 if x < 500 else(\n",
    "    2 if x <800 and x >=500 else (\n",
    "    3 if x <1000 and x >=800 else (\n",
    "    4 if x < 1300 and x >=1000 else (\n",
    "    5 if x <2000 and x >= 1300 else (\n",
    "    6 if x<3000 and x>=2000 else 7\n",
    "    ))))))"
   ]
  },
  {
   "cell_type": "code",
   "execution_count": 35,
   "metadata": {
    "id": "jNdT8nAGewwx"
   },
   "outputs": [],
   "source": [
    "#Creating a new feature combining AREA and CITY so that we can capture variation of Price per city area wise.\n",
    "\n",
    "test_data['AREA_CITY'] = test_data['CITY'] + test_data['SQUARE_FT_BIN'].astype(str)"
   ]
  },
  {
   "cell_type": "code",
   "execution_count": 36,
   "metadata": {
    "id": "26aOXyIMew8H"
   },
   "outputs": [],
   "source": [
    "#Bining AREA_CITY feature under a new feature AREA_CITY_BIN in test\n",
    "\n",
    "test_data['AREA_CITY_BIN']= test_data['AREA_CITY'].apply(lambda x: 16 if x in ('Ranchi7','Nagpur7','Chennai7','Mumbai7','Maharashtra7','Goa7','Lalitpur7','Chandigarh7',\n",
    "          'Pune7','Bangalore7','Kanpur7','Gurgaon7','Lucknow7','Kolkata7','Kochi7','Mohali7','Noida7','Maharashtra6','Kottayam7','Lalitpur6','Mumbai6','Visakhapatnam7') else (\n",
    "15 if x in ('Vadodara7','Udaipur7','Vidisha7','Mangalore7','Mumbai5','Surat7','Maharashtra5','Lalitpur5','Erode7','Panchkula7','Faridabad7','Panaji6','Kanpur6','Sindhudurg6',\n",
    "            'Bhubaneswar7') else (\n",
    "14 if x in ('Bangalore6','Pune6','Jalgaon2','Siliguri7','Chennai6','Coimbatore7','Gurgaon6','Jaipur7','Kolkata6','Jodhpur6','Ahmednagar1','Kochi6','Nagpur6','Indore7','Panaji7',\n",
    "            'Mumbai4','Panaji5','Maharashtra4','Ernakulam6','Noida6','Lalitpur4') else (\n",
    "13 if x in ('Patna6','Haldwani7','Coimbatore6','Varanasi7','Ghaziabad7','Mysore6','Durg7','Hathras5','Maharashtra3','Ghaziabad6','Mumbai3','Lalitpur3','Vijayawada6','Latur6','Idukki6',\n",
    "            'Amritsar6','Guwahati6','Jaipur6') else (\n",
    "12 if x in ('Mangalore6','Lucknow6','Ranchi6','Secunderabad7','Visakhapatnam6','Pune5','Nizamabad7','Goa6','Ludhiana6','Gurgaon5','Shimla6','Sonipat7','Jamshedpur7','Kota6',\n",
    "            'Bhubaneswar6','Thrissur7','Panchkula6','Mohali6','Surat6','Udaipur6','Dehradun6','Bangalore5','Rajkot6') else (\n",
    "11 if x in ('Karwar5','Anand2','Rajkot5','Ludhiana7','Chennai5','Bhopal7','Thrissur6','Indore6','Arrah5','Shimla5','Kottayam6','Secunderabad6','Kolkata5','Maharashtra2','Agra6',\n",
    "            'Chandigarh6','Anand7','Hassan5','Srinagar5','Belgaum6','Faridabad6','Mumbai2','Nainital7','Gurgaon4','Udupi6','Nainital4','Jabalpur5','Panaji4','Udupi7','Noida5',\n",
    "            'Dehradun7','Goa5','Bardhaman6','Bhadrak7','Kollam2','Tirunelveli6','Jalandhar7','Lalitpur2','Jammu5','Vadodara6','Allahabad5','Gandhinagar7') else (\n",
    "10 if x in ('Varanasi5','Kanpur5','Kolhapur6','Jamshedpur6','Valsad7','Sagar6','Dharuhera6','Kottayam5','Sonipat6','Kochi5','Coimbatore5','Madurai5','Panchkula5','Kollam5',\n",
    "            'Nagpur5','Pondicherry5','Pune4','Ludhiana5','Solapur5','Kanchipuram5','Faizabad6','Margao5','Arrah4','Ernakulam5','Tirupati6','Ghaziabad5','Thrissur5','Bhubaneswar5',\n",
    "            'Kakinada5','Gandhinagar6','Siliguri6','Mangalore5','Aurangabad5','Gurgaon3','Bhopal6','Visakhapatnam5','Goa4','Hubli6','Solan6','Phagwara7','Mysore5','Dehradun5',\n",
    "            'Lucknow5','Salem4','Salem5','Shimla4','Junagadh7','Secunderabad5','Jalandhar6','Kota7','Moradabad6','Navsari6','Rohtak6','Belgaum5','Kannur5','Mumbai1','Bareilly5',\n",
    "            'Vijayawada5','Guwahati5','Mohali5') else (\n",
    "9 if x in ('Patna5','Dalhousie5','Gwalior6','Lalitpur1','Gandhinagar5','Bangalore4','Chandigarh5','Chennai4','Panchkula4','Raigad5','Maharashtra1','Bahadurgarh6','Raipur6','Rewari6',\n",
    "           'Haldwani5','Jajpur5','Ranchi5','Jhansi5','Raigad6','Ahmednagar5','Pondicherry7','Vapi6','Jammu4','Surat5','Erode3','Jaipur3','Udaipur5','Kadapa5','Udupi5','Ambala7',\n",
    "           'Faridabad5','Varanasi4','Rudrapur6','Rohtak5','Cuttack4','Palakkad5','Guntur5','Mysore3','Beed7','Berhampur5','Solan5','Bikaner5','Jaipur5','Mysore4','Meerut6') else (\n",
    "8 if x in ('Hubli5','Kolkata4','Jammu7','Warangal5','Noida4','Dibrugarh4','Bikaner7','Gwalior1','Ajmer6','Bharuch7','Margao4','Jodhpur5','Chandigarh4','Madurai4','Bardhaman5',\n",
    "           'Tirunelveli5','Ambala6','Tirupati5','Pune3','Cuttack5','Darbhanga4','Kottayam4','Indore5','Eluru5','Gulbarga5','Agartala3','Roorkee4','Agra5','Rajkot3','Ludhiana3',\n",
    "           'Patna4','Dharwad5','Rourkela5','Panaji3','Srikakulam5','Jodhpur4','Bhimavaram5','Vellore4','Jalandhar5','Kota5','Bhagalpur5','Amravati5','Jamshedpur5','Bhilai6',\n",
    "           'Tirupati4','Muzaffarpur5') else (\n",
    "7 if x in ('Coimbatore4','Rajkot4','Bahadurgarh5','Kolhapur4','Ottapalam5','Nainital5','Kollam4','Kangra7','Ratnagiri6','Silchar5','Moradabad5','Dahod4','Kochi4','Asansol5','Sonipat5',\n",
    "           'Gaya5','Goa3','Kadapa4','Kannur4','Allahabad4','Raigarh4','Siliguri5','Ajmer5','Patna1','Palghar5','Aligarh6','Pondicherry4','Ludhiana4','Dehradun4','Mysore2','Vadodara5',\n",
    "           'Akola5','Kanchipuram4','Pathanamthitta5','Secunderabad4','Hoshangabad3','Aligarh5','Amritsar5','Chennai3','Karnal5','Thrissur4','Mangalore4','Kanpur4','Raipur5','Jind5',\n",
    "           'Lucknow4','Ghaziabad4','Hosur5','Akola4','Thoothukudi4','Aurangabad4','Ernakulam4','Bangalore3','Jalgaon4','Jagdalpur5','Ujjain5','Karjat4','Chittoor4','Patiala5',\n",
    "           'Bardhaman4','Bilaspur2','Balasore4','Satna4','Roorkee3','Dalhousie3','Anantapur5','Allahabad3','Gwalior5','Bhavnagar5','Jabalpur4','Guwahati4','Kanchipuram3','Cuttack3',\n",
    "           'Vizianagaram5','Bhubaneswar4','Kolkata3','Durg5','Dharwad4','Tirunelveli4','Bharuch5','Rishikesh4','Gandhidham4','Haridwar5','Nagpur4','Junagadh5','Ranchi4','Meerut5',\n",
    "           'Eluru4','Jamnagar5','Guntur4','Rewari5','Nellore6','Hazaribagh5','Vapi5','Sonipat2','Bhimavaram4','Darjeeling5','Raigad4','Jalna5','Nellore5','Belgaum4','Shimla2',\n",
    "           'Varanasi3','Shimla3','Bhopal5','Pondicherry3','Neemrana5','Alwar5','Ongole5','Jalgaon1') else (\n",
    "6 if x in ('Jamshedpur4','Faridabad4','Goa1','Rewa4','Anand6','Sikar5','Satna5','Bharatpur5','Kota4','Ooty2','Bareilly4','Mathura5','Pune2','Noida3','Dharuhera5','Durgapur5',\n",
    "           'Kakinada4','Idukki5','Wardha5','Gandhidham5','Jalgaon3','Guwahati3','Coimbatore3','Kanpur3','Vijayawada4','Visakhapatnam4','Kochi3','Tenali5','Udupi4','Dehradun3',\n",
    "           'Gandhinagar4','Patna3','Dhanbad5','Goa2','Raichur5','Nagaon4','Bhiwadi6','Morbi4','Belgaum3','Ajmer4','Mohali4','Ahmednagar4','Palghar4','Surat4','Jhunjhunu5','Panaji2',\n",
    "           'Nainital2','Haridwar4','Udaipur4','Thoothukudi3','Mathura3','Palakkad4','Chandigarh3','Karaikudi4','Solapur4','Bahadurgarh4','Gwalior4','Valsad5','Bangalore1','Bangalore2',\n",
    "           'Ernakulam3','Lucknow3','Tirunelveli3','Muzaffarpur4','Amritsar4','Vijayawada7','Puri3','Madurai3','Thanjavur5','Bhagalpur4','Thanjavur3','Bilaspur5','Amravati3','Pathanamthitta4',\n",
    "           'Bhiwadi5','Agra7','Gaya4','Mangalore3','Siwan5','Secunderabad3','Bokaro5','Jabalpur3','Kolhapur3','Hoshiarpur5','Chandrapur5','Nagaur3','Angul3','Berhampur4','Gadhinglaj3',\n",
    "           'Kharagpur4','Kakinada3','Srikakulam4','Gwalior3','Dalhousie2','Tenali4','Margao3','Kannur3','Jaipur4','Solapur3','Rohtak4','Ranchi3','Chennai2','Solan4','Jhansi4',\n",
    "           'Ratnagiri4','Ahmednagar3','Deoghar4','Visakhapatnam3','Raigad3','Ghaziabad3','Aligarh4','Bhubaneswar3','Agra4','Bhilai5','Vapi4','Amravati4','Amravati2','Thrissur3',\n",
    "           'Hubli4','Rajnandgaon4','Berhampur3','Madurai2','Jalandhar4','Surendranagar5','Amroha4','Nellore4','Bhopal4','Nagpur3','Ratnagiri3','Jodhpur3','Ernakulam2','Varanasi2',\n",
    "           'Gurgaon2','Siliguri4','Indore4','Nainital3','Dharuhera3','Raipur4','Neemrana3','Vadodara4','Bardhaman3','Dhule4','Sonipat4','Guwahati2','Neemrana4','Rajkot2','Gulbarga4',\n",
    "           'Kolhapur2','Raigarh2','Navsari5','Kota3','Moradabad4','Anand5','Surat2','Dharuhera4','Belgaum2','Palakkad3','Meerut4') else (   \n",
    "5 if x in ('Gadhinglaj4','Faridabad3','Bilaspur4','Hazaribagh4','Allahabad2','Haridwar3','Raisen5','Kotdwara4','Nanded2','Warangal4','Sindhudurg3','Nanded3','Karnal3','Ongole4','Aurangabad3',\n",
    "           'Haldia3','Satna3','Rajpura5','Panipat6','Udaipur3','Bhubaneswar2','Palwal4','Palghar3','Jamshedpur3','Vijayawada3','Porbandar2','Chhindwara2','Pune1','Karnal7','Porbandar5',\n",
    "           'Karwar4','Kurnool4','Rishikesh3','Chandrapur2','Udupi3','Chandrapur4','Jodhpur2','Vizianagaram4','Jamnagar4','Tirupati3','Alwar4','Noida2','Bilaspur3','Panchkula2',\n",
    "           'Kurukshetra1','Gaya3','Kadi5','Hapur4','Nagapattinam2','Palwal5','Moradabad3','Sambalpur4','Kanpur2','Dhanbad4','Bahadurgarh3','Hubli3','Ghaziabad2','Gwalior2','Sonipat3',\n",
    "           'Kochi2','Coimbatore2','Aurangabad6','Bhiwadi4','Latur3','Durgapur4','Kolkata2','Karnal4','Godhra4','Puri2','Sindhudurg4','Ongole3','Latur4','Raipur3','Faridabad2','Asansol4',\n",
    "           'Mathura4','Lucknow2','Meerut3','Wardha4','Nagpur2','Dhanbad3','Raigad2','Dhule3','Guntur3','Jalandhar3','Solan3','Baddi4','Washim3','Indore3','Gulbarga3','Morbi3',\n",
    "           'Mangalore2','Siliguri3') else (\n",
    "4 if x in ('Palakkad2','Rudrapur4','Ranchi2','Agra3','Bharuch4','Anand4','Rayagada3','Pondicherry2','Pudukkottai2','Betul4','Baddi2','Yavatmal3','Margao2','Hosur3','Durg4','Gondia4',\n",
    "           'Chandigarh1','Osmanabad2','Bhavnagar6','Aurangabad2','Siddipet3','Surat3','Meerut1','Vadodara3','Gandhinagar3','Dehradun2','Asansol3','Navsari4','Chennai1','Shirdi2',\n",
    "           'Bhilai4','Malappuram2','Nadiad4','Bhandara4','Jharsuguda5','Nanded4','Thrissur2','Valsad4','Vijayawada2','Tenali3','Durg2','Visakhapatnam2','Secunderabad1','Gandhinagar2',\n",
    "           'Bhopal3','Amritsar2','Jabalpur2','Eluru3','Kota2','Karjat3','Palanpur4','Karad4','Thanjavur4','Guwahati1','Hubli2','Chandigarh2','Latur7','Kharagpur3','Karad3','B',\n",
    "           'hopal2','Bokaro4','Aligarh3','Rewari4','Jamnagar3','Mohali2','Machilipatnam2','Dhanbad2','Visnagar4','Karnal2','Jabalpur1','Patna2','Bahadurgarh2','Bhavnagar3','Akola2',\n",
    "           'Vizianagaram3','Noida1','Nellore3','Rudrapur3','Agra2','Palwal3','Hazaribagh3','Rewari2','Hoshangabad4','Nadiad3','Kadi4','Jhansi2') else (\n",
    "3 if x in ('Bhiwadi3','Haridwar2','Bhavnagar4','Mohali3','Anand3','Ahmednagar2','Dehradun1','Durgapur3','Palghar2','Junagadh3','Kanchipuram2','Midnapore2','Meerut7','Gadarwara2',\n",
    "           'Haldwani2','Morbi2','Solan2','Haldwani3','Hoshiarpur7','Guntur2','Vadodara2','Valsad3','Varanasi1','Siliguri2','Jamshedpur2','Raigad1','Vapi3','Navsari2','Udupi2',\n",
    "           'Sindhudurg2','Panchkula1','Jaipur2','Ratnagiri2','Durg3','Ujjain2','Karjat2','Secunderabad2','Ajmer3','Coimbatore1','Kolhapur1','Mathura2','Gandhidham3','Rajkot1',\n",
    "           'Solapur2','Jalna2','Latur2','Ghaziabad1','Faridabad1','Sonipat1','Lucknow1','Nadiad2','Durgapur2','Yavatmal2','Jalgaon5','Kollam3','Palghar1','Bharuch3','Vapi2',\n",
    "           'Chandrapur3','Valsad2','Kharagpur2','Ludhiana2','Gandhinagar1','Neemrana1','Karjat1','Raipur2','Mangalore1','Bhiwani2','Bhopal1','Wardha3','Thrissur1','Karad2','Junagadh4',\n",
    "           'Jamnagar2','Sabarkantha3','Indore2','Udaipur2','Junagadh2','Neemrana2','Visakhapatnam1','Kolkata1','Bhavnagar2','Ranchi1','Banswara2','Harda2','Allahabad1') else (\n",
    "2 if x in ('Vadodara1','Dhule2','Meerut2','Dharuhera2','Bhilai1','Bhiwadi2','Bhandara3','Bhilai3','Anantapur2','Nagpur1','Panipat1','Amravati1','Gandhidham2','Thanjavur2','Karad1',\n",
    "           'Barabanki2','Nainital1','Wardha2','Nellore1','Madurai1','Shirdi1','Bharuch1','Agra1','Jaipur1','Mohali1','Valsad1','Haridwar1','Nellore2','Moradabad2','Ajmer2','Bharuch2',\n",
    "           'Gandhidham1','Sindhudurg1','Gurdaspur2','Bhiwadi1','Panipat4','Jalandhar2','Rudrapur2','Puri1','Sikar2','Asansol2','Ratnagiri1','Solan1','Gurgaon1','Kanchipuram1',\n",
    "           'Ujjain1','Godhra2','Jodhpur1','Alwar1','Vizianagaram2','Hosur4','Aurangabad1','Siliguri1','Jamnagar1','Udaipur1','Hapur1','Kanpur1','Bhilai2') else 1\n",
    ")))))))))))))))"
   ]
  },
  {
   "cell_type": "code",
   "execution_count": 37,
   "metadata": {
    "colab": {
     "base_uri": "https://localhost:8080/"
    },
    "id": "BfsRd7b5LqsK",
    "outputId": "e5054e0c-a6d8-46c2-b88e-5419cf97a174"
   },
   "outputs": [
    {
     "data": {
      "text/plain": [
       "0.998657487091222"
      ]
     },
     "execution_count": 37,
     "metadata": {},
     "output_type": "execute_result"
    }
   ],
   "source": [
    "#Checking the percentage of data falls under area 200 \n",
    "\n",
    "(train_data['SQUARE_FT'].count() -train_data['SQUARE_FT'][train_data.SQUARE_FT<200].count())/train_data['SQUARE_FT'].count()"
   ]
  },
  {
   "cell_type": "code",
   "execution_count": 38,
   "metadata": {
    "id": "B3B5XWOyLqu0"
   },
   "outputs": [],
   "source": [
    "#removing area less tan 200 sqrft and it constitute .002% of data\n",
    "train_data = train_data[train_data.SQUARE_FT>200]"
   ]
  },
  {
   "cell_type": "code",
   "execution_count": 39,
   "metadata": {
    "colab": {
     "base_uri": "https://localhost:8080/",
     "height": 304
    },
    "id": "4sPBLULN4DB_",
    "outputId": "5e0f9274-df75-42e6-a4e7-0091de81c8c1"
   },
   "outputs": [
    {
     "data": {
      "text/plain": [
       "<matplotlib.axes._subplots.AxesSubplot at 0x2d919276340>"
      ]
     },
     "execution_count": 39,
     "metadata": {},
     "output_type": "execute_result"
    },
    {
     "data": {
      "image/png": "[encoded data removed]",
      "text/plain": [
       "<Figure size 432x288 with 1 Axes>"
      ]
     },
     "metadata": {},
     "output_type": "display_data"
    }
   ],
   "source": [
    "#Visualizing SQUARE_FT\n",
    "sns.distplot(train_data.SQUARE_FT)"
   ]
  },
  {
   "cell_type": "code",
   "execution_count": 40,
   "metadata": {
    "id": "C9euzIy-OED9"
   },
   "outputs": [],
   "source": [
    "#taking log transfrom for sqere fit as the data is skiewd\n",
    "\n",
    "train_data.SQUARE_FT = np.log1p(train_data.SQUARE_FT)\n",
    "test_data.SQUARE_FT = np.log1p(test_data.SQUARE_FT)\n"
   ]
  },
  {
   "cell_type": "code",
   "execution_count": 41,
   "metadata": {
    "colab": {
     "base_uri": "https://localhost:8080/",
     "height": 293
    },
    "id": "BqYiZA5JBniV",
    "outputId": "f2e9e008-f477-4144-b7e4-79c7ee7d37f6"
   },
   "outputs": [
    {
     "data": {
      "text/plain": [
       "<matplotlib.axes._subplots.AxesSubplot at 0x2d917733400>"
      ]
     },
     "execution_count": 41,
     "metadata": {},
     "output_type": "execute_result"
    },
    {
     "data": {
      "image/png": "[encoded data removed]",
      "text/plain": [
       "<Figure size 432x288 with 1 Axes>"
      ]
     },
     "metadata": {},
     "output_type": "display_data"
    }
   ],
   "source": [
    "#Visualization of latitued and longitude\n",
    "\n",
    "sns.scatterplot(x='LATITUDE',y='LONGITUDE',data=train_data)"
   ]
  },
  {
   "cell_type": "markdown",
   "metadata": {
    "id": "UUtklneQwYQQ"
   },
   "source": []
  },
  {
   "cell_type": "code",
   "execution_count": 42,
   "metadata": {
    "colab": {
     "base_uri": "https://localhost:8080/",
     "height": 293
    },
    "id": "Chs8HT6YLq0m",
    "outputId": "6590e769-219b-43c9-d320-d30480129642"
   },
   "outputs": [
    {
     "data": {
      "text/plain": [
       "<matplotlib.axes._subplots.AxesSubplot at 0x2d917a406d0>"
      ]
     },
     "execution_count": 42,
     "metadata": {},
     "output_type": "execute_result"
    },
    {
     "data": {
      "image/png": "[encoded data removed]",
      "text/plain": [
       "<Figure size 432x288 with 1 Axes>"
      ]
     },
     "metadata": {},
     "output_type": "display_data"
    }
   ],
   "source": [
    "#Visualization of Price\n",
    "\n",
    "sns.boxplot(train_data.PRICE)"
   ]
  },
  {
   "cell_type": "markdown",
   "metadata": {
    "id": "w01cQ4OSJ7fM"
   },
   "source": [
    "As the price data is skewed, I will take log transformation of this feature while applying to model."
   ]
  },
  {
   "cell_type": "code",
   "execution_count": 43,
   "metadata": {
    "colab": {
     "base_uri": "https://localhost:8080/",
     "height": 266
    },
    "id": "uadRCERyfQDE",
    "outputId": "fc90baac-b5e8-4ace-987b-ab1c61a66db9"
   },
   "outputs": [
    {
     "data": {
      "text/html": [
       "<div>\n",
       "<style scoped>\n",
       "    .dataframe tbody tr th:only-of-type {\n",
       "        vertical-align: middle;\n",
       "    }\n",
       "\n",
       "    .dataframe tbody tr th {\n",
       "        vertical-align: top;\n",
       "    }\n",
       "\n",
       "    .dataframe thead th {\n",
       "        text-align: right;\n",
       "    }\n",
       "</style>\n",
       "<table border=\"1\" class=\"dataframe\">\n",
       "  <thead>\n",
       "    <tr style=\"text-align: right;\">\n",
       "      <th></th>\n",
       "      <th>POSTED_BY</th>\n",
       "      <th>UNDER_CONSTRUCTION</th>\n",
       "      <th>RERA</th>\n",
       "      <th>BHK_NO.</th>\n",
       "      <th>BHK_OR_RK</th>\n",
       "      <th>SQUARE_FT</th>\n",
       "      <th>READY_TO_MOVE</th>\n",
       "      <th>RESALE</th>\n",
       "      <th>ADDRESS</th>\n",
       "      <th>LONGITUDE</th>\n",
       "      <th>LATITUDE</th>\n",
       "      <th>PRICE</th>\n",
       "      <th>POSTED_BY_Builder</th>\n",
       "      <th>POSTED_BY_Dealer</th>\n",
       "      <th>POSTED_BY_Owner</th>\n",
       "      <th>CITY</th>\n",
       "      <th>CITY_BIN</th>\n",
       "      <th>SQUARE_FT_BIN</th>\n",
       "      <th>AREA_CITY</th>\n",
       "      <th>AREA_CITY_BIN</th>\n",
       "    </tr>\n",
       "  </thead>\n",
       "  <tbody>\n",
       "    <tr>\n",
       "      <th>0</th>\n",
       "      <td>Owner</td>\n",
       "      <td>0</td>\n",
       "      <td>0</td>\n",
       "      <td>2</td>\n",
       "      <td>2</td>\n",
       "      <td>7.171070</td>\n",
       "      <td>1</td>\n",
       "      <td>1</td>\n",
       "      <td>Ksfc Layout,Bangalore</td>\n",
       "      <td>12.969910</td>\n",
       "      <td>77.597960</td>\n",
       "      <td>55.0</td>\n",
       "      <td>0</td>\n",
       "      <td>0</td>\n",
       "      <td>1</td>\n",
       "      <td>Bangalore</td>\n",
       "      <td>6</td>\n",
       "      <td>5</td>\n",
       "      <td>Bangalore5</td>\n",
       "      <td>12</td>\n",
       "    </tr>\n",
       "    <tr>\n",
       "      <th>1</th>\n",
       "      <td>Dealer</td>\n",
       "      <td>0</td>\n",
       "      <td>0</td>\n",
       "      <td>2</td>\n",
       "      <td>2</td>\n",
       "      <td>7.151485</td>\n",
       "      <td>1</td>\n",
       "      <td>1</td>\n",
       "      <td>Vishweshwara Nagar,Mysore</td>\n",
       "      <td>12.274538</td>\n",
       "      <td>76.644605</td>\n",
       "      <td>51.0</td>\n",
       "      <td>0</td>\n",
       "      <td>1</td>\n",
       "      <td>0</td>\n",
       "      <td>Mysore</td>\n",
       "      <td>4</td>\n",
       "      <td>4</td>\n",
       "      <td>Mysore4</td>\n",
       "      <td>9</td>\n",
       "    </tr>\n",
       "    <tr>\n",
       "      <th>2</th>\n",
       "      <td>Owner</td>\n",
       "      <td>0</td>\n",
       "      <td>0</td>\n",
       "      <td>2</td>\n",
       "      <td>2</td>\n",
       "      <td>6.839647</td>\n",
       "      <td>1</td>\n",
       "      <td>1</td>\n",
       "      <td>Jigani,Bangalore</td>\n",
       "      <td>12.778033</td>\n",
       "      <td>77.632191</td>\n",
       "      <td>43.0</td>\n",
       "      <td>0</td>\n",
       "      <td>0</td>\n",
       "      <td>1</td>\n",
       "      <td>Bangalore</td>\n",
       "      <td>6</td>\n",
       "      <td>3</td>\n",
       "      <td>Bangalore3</td>\n",
       "      <td>7</td>\n",
       "    </tr>\n",
       "    <tr>\n",
       "      <th>3</th>\n",
       "      <td>Owner</td>\n",
       "      <td>0</td>\n",
       "      <td>1</td>\n",
       "      <td>2</td>\n",
       "      <td>2</td>\n",
       "      <td>6.836175</td>\n",
       "      <td>1</td>\n",
       "      <td>1</td>\n",
       "      <td>Sector-1 Vaishali,Ghaziabad</td>\n",
       "      <td>28.642300</td>\n",
       "      <td>77.344500</td>\n",
       "      <td>62.5</td>\n",
       "      <td>0</td>\n",
       "      <td>0</td>\n",
       "      <td>1</td>\n",
       "      <td>Ghaziabad</td>\n",
       "      <td>4</td>\n",
       "      <td>3</td>\n",
       "      <td>Ghaziabad3</td>\n",
       "      <td>6</td>\n",
       "    </tr>\n",
       "    <tr>\n",
       "      <th>4</th>\n",
       "      <td>Dealer</td>\n",
       "      <td>1</td>\n",
       "      <td>0</td>\n",
       "      <td>2</td>\n",
       "      <td>2</td>\n",
       "      <td>6.907765</td>\n",
       "      <td>0</td>\n",
       "      <td>1</td>\n",
       "      <td>New Town,Kolkata</td>\n",
       "      <td>22.592200</td>\n",
       "      <td>88.484911</td>\n",
       "      <td>60.5</td>\n",
       "      <td>0</td>\n",
       "      <td>1</td>\n",
       "      <td>0</td>\n",
       "      <td>Kolkata</td>\n",
       "      <td>5</td>\n",
       "      <td>3</td>\n",
       "      <td>Kolkata3</td>\n",
       "      <td>7</td>\n",
       "    </tr>\n",
       "  </tbody>\n",
       "</table>\n",
       "</div>"
      ],
      "text/plain": [
       "  POSTED_BY  UNDER_CONSTRUCTION  RERA  BHK_NO.  BHK_OR_RK  SQUARE_FT  \\\n",
       "0     Owner                   0     0        2          2   7.171070   \n",
       "1    Dealer                   0     0        2          2   7.151485   \n",
       "2     Owner                   0     0        2          2   6.839647   \n",
       "3     Owner                   0     1        2          2   6.836175   \n",
       "4    Dealer                   1     0        2          2   6.907765   \n",
       "\n",
       "   READY_TO_MOVE  RESALE                      ADDRESS  LONGITUDE   LATITUDE  \\\n",
       "0              1       1        Ksfc Layout,Bangalore  12.969910  77.597960   \n",
       "1              1       1    Vishweshwara Nagar,Mysore  12.274538  76.644605   \n",
       "2              1       1             Jigani,Bangalore  12.778033  77.632191   \n",
       "3              1       1  Sector-1 Vaishali,Ghaziabad  28.642300  77.344500   \n",
       "4              0       1             New Town,Kolkata  22.592200  88.484911   \n",
       "\n",
       "   PRICE  POSTED_BY_Builder  POSTED_BY_Dealer  POSTED_BY_Owner       CITY  \\\n",
       "0   55.0                  0                 0                1  Bangalore   \n",
       "1   51.0                  0                 1                0     Mysore   \n",
       "2   43.0                  0                 0                1  Bangalore   \n",
       "3   62.5                  0                 0                1  Ghaziabad   \n",
       "4   60.5                  0                 1                0    Kolkata   \n",
       "\n",
       "   CITY_BIN  SQUARE_FT_BIN   AREA_CITY  AREA_CITY_BIN  \n",
       "0         6              5  Bangalore5             12  \n",
       "1         4              4     Mysore4              9  \n",
       "2         6              3  Bangalore3              7  \n",
       "3         4              3  Ghaziabad3              6  \n",
       "4         5              3    Kolkata3              7  "
      ]
     },
     "execution_count": 43,
     "metadata": {},
     "output_type": "execute_result"
    }
   ],
   "source": [
    "#After EDA, complete Train data\n",
    "\n",
    "train_data.head()"
   ]
  },
  {
   "cell_type": "code",
   "execution_count": 44,
   "metadata": {
    "id": "QfJPvzIyLq3E"
   },
   "outputs": [],
   "source": [
    "#droping 'ADDRESS' 'CITY','AREA_CITY','SQUARE_FT_BIN','POSTED_BY' as these are not adding any value\n",
    "#READY_TO_MOVE has high corelation with UNDER_CONSTRUCTION(after applyig model I get to know)\n",
    "#BHK_OR_RK\t is least significant\n",
    "\n",
    "train_data_cleand = train_data.drop(['ADDRESS','READY_TO_MOVE','BHK_OR_RK','CITY','AREA_CITY','SQUARE_FT_BIN','POSTED_BY'], axis = 1)\n",
    "test_data_cleand = test_data.drop(['ADDRESS','READY_TO_MOVE','BHK_OR_RK','CITY','AREA_CITY','SQUARE_FT_BIN','POSTED_BY'], axis = 1)"
   ]
  },
  {
   "cell_type": "code",
   "execution_count": 45,
   "metadata": {
    "colab": {
     "base_uri": "https://localhost:8080/",
     "height": 195
    },
    "id": "ABcbg7umLq5Z",
    "outputId": "39b23580-54ad-4e75-db74-ddd8132a95dd"
   },
   "outputs": [
    {
     "data": {
      "text/html": [
       "<div>\n",
       "<style scoped>\n",
       "    .dataframe tbody tr th:only-of-type {\n",
       "        vertical-align: middle;\n",
       "    }\n",
       "\n",
       "    .dataframe tbody tr th {\n",
       "        vertical-align: top;\n",
       "    }\n",
       "\n",
       "    .dataframe thead th {\n",
       "        text-align: right;\n",
       "    }\n",
       "</style>\n",
       "<table border=\"1\" class=\"dataframe\">\n",
       "  <thead>\n",
       "    <tr style=\"text-align: right;\">\n",
       "      <th></th>\n",
       "      <th>UNDER_CONSTRUCTION</th>\n",
       "      <th>RERA</th>\n",
       "      <th>BHK_NO.</th>\n",
       "      <th>SQUARE_FT</th>\n",
       "      <th>RESALE</th>\n",
       "      <th>LONGITUDE</th>\n",
       "      <th>LATITUDE</th>\n",
       "      <th>PRICE</th>\n",
       "      <th>POSTED_BY_Builder</th>\n",
       "      <th>POSTED_BY_Dealer</th>\n",
       "      <th>POSTED_BY_Owner</th>\n",
       "      <th>CITY_BIN</th>\n",
       "      <th>AREA_CITY_BIN</th>\n",
       "    </tr>\n",
       "  </thead>\n",
       "  <tbody>\n",
       "    <tr>\n",
       "      <th>0</th>\n",
       "      <td>0</td>\n",
       "      <td>0</td>\n",
       "      <td>2</td>\n",
       "      <td>7.171070</td>\n",
       "      <td>1</td>\n",
       "      <td>12.969910</td>\n",
       "      <td>77.597960</td>\n",
       "      <td>55.0</td>\n",
       "      <td>0</td>\n",
       "      <td>0</td>\n",
       "      <td>1</td>\n",
       "      <td>6</td>\n",
       "      <td>12</td>\n",
       "    </tr>\n",
       "    <tr>\n",
       "      <th>1</th>\n",
       "      <td>0</td>\n",
       "      <td>0</td>\n",
       "      <td>2</td>\n",
       "      <td>7.151485</td>\n",
       "      <td>1</td>\n",
       "      <td>12.274538</td>\n",
       "      <td>76.644605</td>\n",
       "      <td>51.0</td>\n",
       "      <td>0</td>\n",
       "      <td>1</td>\n",
       "      <td>0</td>\n",
       "      <td>4</td>\n",
       "      <td>9</td>\n",
       "    </tr>\n",
       "    <tr>\n",
       "      <th>2</th>\n",
       "      <td>0</td>\n",
       "      <td>0</td>\n",
       "      <td>2</td>\n",
       "      <td>6.839647</td>\n",
       "      <td>1</td>\n",
       "      <td>12.778033</td>\n",
       "      <td>77.632191</td>\n",
       "      <td>43.0</td>\n",
       "      <td>0</td>\n",
       "      <td>0</td>\n",
       "      <td>1</td>\n",
       "      <td>6</td>\n",
       "      <td>7</td>\n",
       "    </tr>\n",
       "    <tr>\n",
       "      <th>3</th>\n",
       "      <td>0</td>\n",
       "      <td>1</td>\n",
       "      <td>2</td>\n",
       "      <td>6.836175</td>\n",
       "      <td>1</td>\n",
       "      <td>28.642300</td>\n",
       "      <td>77.344500</td>\n",
       "      <td>62.5</td>\n",
       "      <td>0</td>\n",
       "      <td>0</td>\n",
       "      <td>1</td>\n",
       "      <td>4</td>\n",
       "      <td>6</td>\n",
       "    </tr>\n",
       "    <tr>\n",
       "      <th>4</th>\n",
       "      <td>1</td>\n",
       "      <td>0</td>\n",
       "      <td>2</td>\n",
       "      <td>6.907765</td>\n",
       "      <td>1</td>\n",
       "      <td>22.592200</td>\n",
       "      <td>88.484911</td>\n",
       "      <td>60.5</td>\n",
       "      <td>0</td>\n",
       "      <td>1</td>\n",
       "      <td>0</td>\n",
       "      <td>5</td>\n",
       "      <td>7</td>\n",
       "    </tr>\n",
       "  </tbody>\n",
       "</table>\n",
       "</div>"
      ],
      "text/plain": [
       "   UNDER_CONSTRUCTION  RERA  BHK_NO.  SQUARE_FT  RESALE  LONGITUDE   LATITUDE  \\\n",
       "0                   0     0        2   7.171070       1  12.969910  77.597960   \n",
       "1                   0     0        2   7.151485       1  12.274538  76.644605   \n",
       "2                   0     0        2   6.839647       1  12.778033  77.632191   \n",
       "3                   0     1        2   6.836175       1  28.642300  77.344500   \n",
       "4                   1     0        2   6.907765       1  22.592200  88.484911   \n",
       "\n",
       "   PRICE  POSTED_BY_Builder  POSTED_BY_Dealer  POSTED_BY_Owner  CITY_BIN  \\\n",
       "0   55.0                  0                 0                1         6   \n",
       "1   51.0                  0                 1                0         4   \n",
       "2   43.0                  0                 0                1         6   \n",
       "3   62.5                  0                 0                1         4   \n",
       "4   60.5                  0                 1                0         5   \n",
       "\n",
       "   AREA_CITY_BIN  \n",
       "0             12  \n",
       "1              9  \n",
       "2              7  \n",
       "3              6  \n",
       "4              7  "
      ]
     },
     "execution_count": 45,
     "metadata": {},
     "output_type": "execute_result"
    }
   ],
   "source": [
    "#Train data after performing cleaning\n",
    "\n",
    "train_data_cleand.head()"
   ]
  },
  {
   "cell_type": "code",
   "execution_count": 46,
   "metadata": {
    "colab": {
     "base_uri": "https://localhost:8080/",
     "height": 195
    },
    "id": "miNRdF5YLq7_",
    "outputId": "56561d98-4f51-4ea9-bce0-55a6db385281"
   },
   "outputs": [
    {
     "data": {
      "text/html": [
       "<div>\n",
       "<style scoped>\n",
       "    .dataframe tbody tr th:only-of-type {\n",
       "        vertical-align: middle;\n",
       "    }\n",
       "\n",
       "    .dataframe tbody tr th {\n",
       "        vertical-align: top;\n",
       "    }\n",
       "\n",
       "    .dataframe thead th {\n",
       "        text-align: right;\n",
       "    }\n",
       "</style>\n",
       "<table border=\"1\" class=\"dataframe\">\n",
       "  <thead>\n",
       "    <tr style=\"text-align: right;\">\n",
       "      <th></th>\n",
       "      <th>UNDER_CONSTRUCTION</th>\n",
       "      <th>RERA</th>\n",
       "      <th>BHK_NO.</th>\n",
       "      <th>SQUARE_FT</th>\n",
       "      <th>RESALE</th>\n",
       "      <th>LONGITUDE</th>\n",
       "      <th>LATITUDE</th>\n",
       "      <th>POSTED_BY_Builder</th>\n",
       "      <th>POSTED_BY_Dealer</th>\n",
       "      <th>POSTED_BY_Owner</th>\n",
       "      <th>CITY_BIN</th>\n",
       "      <th>AREA_CITY_BIN</th>\n",
       "    </tr>\n",
       "  </thead>\n",
       "  <tbody>\n",
       "    <tr>\n",
       "      <th>0</th>\n",
       "      <td>0</td>\n",
       "      <td>0</td>\n",
       "      <td>1</td>\n",
       "      <td>6.302933</td>\n",
       "      <td>1</td>\n",
       "      <td>21.262000</td>\n",
       "      <td>73.047700</td>\n",
       "      <td>0</td>\n",
       "      <td>0</td>\n",
       "      <td>1</td>\n",
       "      <td>4</td>\n",
       "      <td>6</td>\n",
       "    </tr>\n",
       "    <tr>\n",
       "      <th>1</th>\n",
       "      <td>1</td>\n",
       "      <td>1</td>\n",
       "      <td>2</td>\n",
       "      <td>6.685861</td>\n",
       "      <td>0</td>\n",
       "      <td>18.966114</td>\n",
       "      <td>73.148278</td>\n",
       "      <td>0</td>\n",
       "      <td>1</td>\n",
       "      <td>0</td>\n",
       "      <td>8</td>\n",
       "      <td>13</td>\n",
       "    </tr>\n",
       "    <tr>\n",
       "      <th>2</th>\n",
       "      <td>0</td>\n",
       "      <td>0</td>\n",
       "      <td>2</td>\n",
       "      <td>7.137355</td>\n",
       "      <td>1</td>\n",
       "      <td>22.592200</td>\n",
       "      <td>88.484911</td>\n",
       "      <td>0</td>\n",
       "      <td>1</td>\n",
       "      <td>0</td>\n",
       "      <td>5</td>\n",
       "      <td>8</td>\n",
       "    </tr>\n",
       "    <tr>\n",
       "      <th>3</th>\n",
       "      <td>0</td>\n",
       "      <td>0</td>\n",
       "      <td>3</td>\n",
       "      <td>7.245177</td>\n",
       "      <td>1</td>\n",
       "      <td>26.988300</td>\n",
       "      <td>75.584600</td>\n",
       "      <td>0</td>\n",
       "      <td>1</td>\n",
       "      <td>0</td>\n",
       "      <td>4</td>\n",
       "      <td>9</td>\n",
       "    </tr>\n",
       "    <tr>\n",
       "      <th>4</th>\n",
       "      <td>0</td>\n",
       "      <td>0</td>\n",
       "      <td>1</td>\n",
       "      <td>6.067216</td>\n",
       "      <td>1</td>\n",
       "      <td>22.700000</td>\n",
       "      <td>72.870000</td>\n",
       "      <td>0</td>\n",
       "      <td>0</td>\n",
       "      <td>1</td>\n",
       "      <td>2</td>\n",
       "      <td>1</td>\n",
       "    </tr>\n",
       "  </tbody>\n",
       "</table>\n",
       "</div>"
      ],
      "text/plain": [
       "   UNDER_CONSTRUCTION  RERA  BHK_NO.  SQUARE_FT  RESALE  LONGITUDE   LATITUDE  \\\n",
       "0                   0     0        1   6.302933       1  21.262000  73.047700   \n",
       "1                   1     1        2   6.685861       0  18.966114  73.148278   \n",
       "2                   0     0        2   7.137355       1  22.592200  88.484911   \n",
       "3                   0     0        3   7.245177       1  26.988300  75.584600   \n",
       "4                   0     0        1   6.067216       1  22.700000  72.870000   \n",
       "\n",
       "   POSTED_BY_Builder  POSTED_BY_Dealer  POSTED_BY_Owner  CITY_BIN  \\\n",
       "0                  0                 0                1         4   \n",
       "1                  0                 1                0         8   \n",
       "2                  0                 1                0         5   \n",
       "3                  0                 1                0         4   \n",
       "4                  0                 0                1         2   \n",
       "\n",
       "   AREA_CITY_BIN  \n",
       "0              6  \n",
       "1             13  \n",
       "2              8  \n",
       "3              9  \n",
       "4              1  "
      ]
     },
     "execution_count": 46,
     "metadata": {},
     "output_type": "execute_result"
    }
   ],
   "source": [
    "#Test data after performing cleaning\n",
    "\n",
    "test_data_cleand.head()"
   ]
  },
  {
   "cell_type": "code",
   "execution_count": 47,
   "metadata": {
    "id": "HTGuCl_dLq-W"
   },
   "outputs": [],
   "source": [
    "# Creating the dependent and independent variables\n",
    "train_inde = train_data_cleand.drop(['PRICE'], axis = 1)\n",
    "train_dep =  train_data_cleand['PRICE']"
   ]
  },
  {
   "cell_type": "markdown",
   "metadata": {
    "id": "yxEkw1SD53tT"
   },
   "source": [
    "## Step 2: Dataset Preparation (Splitting and Scaling)\n",
    "\n",
    "The Train data has been devided into two sets in 7:3 ratio:\n",
    "\n",
    "*   train_x, train_y (for traning the model)\n",
    "*   val_x, val_y (for checking how the model is performing in unseen data)\n",
    "\n"
   ]
  },
  {
   "cell_type": "code",
   "execution_count": 48,
   "metadata": {
    "id": "uXP5CIEMLrA-"
   },
   "outputs": [],
   "source": [
    "from sklearn.model_selection import train_test_split\n",
    "train_x,val_x,train_y,val_y=train_test_split(train_inde,train_dep,test_size=0.30,random_state=0)"
   ]
  },
  {
   "cell_type": "code",
   "execution_count": 49,
   "metadata": {
    "id": "1FO6BZ5rhJpQ"
   },
   "outputs": [],
   "source": [
    "# Initially I applied scalling. As I have used Tree based models, I have commented out the scalling portion as it was not adding any value to my result.\n",
    "\n",
    "# from sklearn.preprocessing import MinMaxScaler\n",
    "# scaler1= MinMaxScaler().fit(train_x,train_y)"
   ]
  },
  {
   "cell_type": "code",
   "execution_count": 50,
   "metadata": {
    "id": "-2zPhBy5huCo"
   },
   "outputs": [],
   "source": [
    "# train_x = scaler1.transform(train_x)\n",
    "# val_x = scaler1.transform(val_x)"
   ]
  },
  {
   "cell_type": "markdown",
   "metadata": {
    "id": "P2dOV_IS7iYB"
   },
   "source": [
    "# Step 3: Model Selection and Evaluation"
   ]
  },
  {
   "cell_type": "markdown",
   "metadata": {
    "id": "uIrHoqBk7gKt"
   },
   "source": [
    "## Model 1: Random Forest Regressor "
   ]
  },
  {
   "cell_type": "code",
   "execution_count": 51,
   "metadata": {
    "id": "nkRGQKcJtrSd"
   },
   "outputs": [],
   "source": [
    "#Performing gridsearch to tune the parameters for Random forest\n",
    "\n",
    "from sklearn.ensemble import RandomForestRegressor\n",
    "\n",
    "#Creating initial instance of RandomForestRegressor\n",
    "\n",
    "RFModel=RandomForestRegressor()\n",
    "\n",
    "from sklearn.model_selection import  GridSearchCV, cross_val_score, KFold\n",
    "\n",
    "#Defining the parameter set\n",
    "# c1 = {'n_estimators':range(50,200,50), 'max_depth': (5,15,3),'min_samples_leaf':(2,6,1)}\n",
    "c2 = {'n_estimators':range(100,140,10), 'max_depth': (15,18,1)}"
   ]
  },
  {
   "cell_type": "code",
   "execution_count": 52,
   "metadata": {
    "colab": {
     "base_uri": "https://localhost:8080/"
    },
    "id": "hM0239a1trXZ",
    "outputId": "93be7a83-d1dd-4ad5-8757-ccb581e17222"
   },
   "outputs": [
    {
     "data": {
      "text/plain": [
       "RandomForestRegressor()"
      ]
     },
     "execution_count": 52,
     "metadata": {},
     "output_type": "execute_result"
    }
   ],
   "source": [
    "#fitting the train data in model \n",
    "#performing log transformation on price as price values are skewed\n",
    "\n",
    "RFModel.fit(train_x,np.log(train_y))\n",
    "\n",
    "#Performing grid search\n",
    "grid = GridSearchCV(estimator = RFModel, param_grid=c2, cv=3, scoring = 'r2', n_jobs = -1)\n",
    "grid = grid.fit(train_x,train_y)"
   ]
  },
  {
   "cell_type": "code",
   "execution_count": 53,
   "metadata": {
    "colab": {
     "base_uri": "https://localhost:8080/"
    },
    "id": "LxoMvA8ytraT",
    "outputId": "da68c48c-4cba-48e0-89a6-572c7635175f"
   },
   "outputs": [
    {
     "data": {
      "text/plain": [
       "<bound method BaseEstimator.get_params of GridSearchCV(cv=3, estimator=RandomForestRegressor(), n_jobs=-1,\n",
       "             param_grid={'max_depth': (15, 18, 1),\n",
       "                         'n_estimators': range(100, 140, 10)},\n",
       "             scoring='r2')>"
      ]
     },
     "execution_count": 53,
     "metadata": {},
     "output_type": "execute_result"
    }
   ],
   "source": [
    "#best paramets from grid search\n",
    "\n",
    "grid.get_params"
   ]
  },
  {
   "cell_type": "code",
   "execution_count": 54,
   "metadata": {
    "colab": {
     "base_uri": "https://localhost:8080/"
    },
    "id": "69fuN0vntrfh",
    "outputId": "f64be17a-8adb-4585-9c5c-2419f02d17d7"
   },
   "outputs": [
    {
     "data": {
      "text/plain": [
       "RandomForestRegressor(max_depth=15, n_estimators=120)"
      ]
     },
     "execution_count": 54,
     "metadata": {},
     "output_type": "execute_result"
    }
   ],
   "source": [
    "#best estimators from grid search\n",
    "\n",
    "grid.best_estimator_"
   ]
  },
  {
   "cell_type": "code",
   "execution_count": 55,
   "metadata": {
    "colab": {
     "base_uri": "https://localhost:8080/"
    },
    "id": "c4TmqSpbtriT",
    "outputId": "c6840865-1017-44cc-a016-d4877c05f41b"
   },
   "outputs": [
    {
     "data": {
      "text/plain": [
       "0.9428387648247427"
      ]
     },
     "execution_count": 55,
     "metadata": {},
     "output_type": "execute_result"
    }
   ],
   "source": [
    "#best score from grid search\n",
    "\n",
    "grid.best_score_"
   ]
  },
  {
   "cell_type": "code",
   "execution_count": 56,
   "metadata": {
    "id": "5wqGon3BtrnL"
   },
   "outputs": [],
   "source": [
    "#applying the best parameter set to RFmodel\n",
    "\n",
    "RFModel=grid.best_estimator_\n"
   ]
  },
  {
   "cell_type": "code",
   "execution_count": 57,
   "metadata": {
    "colab": {
     "base_uri": "https://localhost:8080/"
    },
    "id": "wzRt2p4dtrp7",
    "outputId": "de96f893-17e2-4f24-deef-cf2df98df938"
   },
   "outputs": [
    {
     "data": {
      "text/plain": [
       "RandomForestRegressor(max_depth=15, n_estimators=120)"
      ]
     },
     "execution_count": 57,
     "metadata": {},
     "output_type": "execute_result"
    }
   ],
   "source": [
    "#fitting traning values to tuned model\n",
    "RFModel.fit(train_x,np.log(train_y))"
   ]
  },
  {
   "cell_type": "code",
   "execution_count": 58,
   "metadata": {
    "colab": {
     "base_uri": "https://localhost:8080/"
    },
    "id": "pkT-AmdOtrsr",
    "outputId": "39c712d2-3f8f-4f56-bc40-cb5618793e22"
   },
   "outputs": [
    {
     "name": "stdout",
     "output_type": "stream",
     "text": [
      "165.4570968677473\n",
      "135.2750443155253\n"
     ]
    }
   ],
   "source": [
    "#Measuring the performance with RMSE Score for RandomForestRegressor\n",
    "\n",
    "from sklearn.metrics import mean_squared_error\n",
    "from math import sqrt\n",
    "\n",
    "pred_train = np.exp(RFModel.predict(train_x))\n",
    "print(np.sqrt(mean_squared_error(train_y,pred_train))) # RMSE Score\n",
    "\n",
    "pred = np.exp(RFModel.predict(val_x))\n",
    "print(np.sqrt(mean_squared_error(val_y,pred))) # RMSE Score"
   ]
  },
  {
   "cell_type": "code",
   "execution_count": 59,
   "metadata": {
    "colab": {
     "base_uri": "https://localhost:8080/"
    },
    "id": "JO1j_WDCtrvT",
    "outputId": "45700f96-f049-46e2-c53f-1e6250c5c8b8"
   },
   "outputs": [
    {
     "name": "stdout",
     "output_type": "stream",
     "text": [
      "0.19361740762563415\n",
      "0.3150599151214449\n"
     ]
    }
   ],
   "source": [
    "#Measuring the performance with squreroot of mean squared log error Score for RandomForestRegressor\n",
    "\n",
    "from sklearn import metrics \n",
    "print(np.sqrt(metrics.mean_squared_log_error( train_y,pred_train)))\n",
    "print(np.sqrt(metrics.mean_squared_log_error( val_y,pred)))\n"
   ]
  },
  {
   "cell_type": "code",
   "execution_count": 60,
   "metadata": {
    "colab": {
     "base_uri": "https://localhost:8080/"
    },
    "id": "rcRnLREstryk",
    "outputId": "8aa35aa4-754c-41ab-ff8f-2e9646f62572"
   },
   "outputs": [
    {
     "name": "stdout",
     "output_type": "stream",
     "text": [
      "0.942169678924603\n",
      "0.9401555676568017\n"
     ]
    }
   ],
   "source": [
    "#Measuring the performance with R2 Score for RandomForestRegressor\n",
    "\n",
    "print(metrics.r2_score(train_y,pred_train))\n",
    "print(metrics.r2_score(val_y,pred))\n"
   ]
  },
  {
   "cell_type": "code",
   "execution_count": 61,
   "metadata": {
    "colab": {
     "base_uri": "https://localhost:8080/",
     "height": 496
    },
    "id": "0OjaxYdktr3B",
    "outputId": "ce0d71eb-53a2-4129-ea27-12331bf7406b"
   },
   "outputs": [
    {
     "data": {
      "text/plain": [
       "<Figure size 864x576 with 0 Axes>"
      ]
     },
     "execution_count": 61,
     "metadata": {},
     "output_type": "execute_result"
    },
    {
     "data": {
      "text/plain": [
       "<matplotlib.collections.PathCollection at 0x2d918248280>"
      ]
     },
     "execution_count": 61,
     "metadata": {},
     "output_type": "execute_result"
    },
    {
     "data": {
      "text/plain": [
       "[<matplotlib.lines.Line2D at 0x2d9182488b0>]"
      ]
     },
     "execution_count": 61,
     "metadata": {},
     "output_type": "execute_result"
    },
    {
     "data": {
      "image/png": "[encoded data removed]",
      "text/plain": [
       "<Figure size 864x576 with 1 Axes>"
      ]
     },
     "metadata": {},
     "output_type": "display_data"
    }
   ],
   "source": [
    "#plot the prediction for RandomForestRegressor\n",
    "\n",
    "plt.figure(figsize=(12,8))\n",
    "plt.scatter(val_y,pred)\n",
    "plt.plot(val_y,val_y,'r')"
   ]
  },
  {
   "cell_type": "markdown",
   "metadata": {
    "id": "sRz6I4Nl8Wwf"
   },
   "source": [
    "## Model 2: Gradient Boosting Regressor"
   ]
  },
  {
   "cell_type": "code",
   "execution_count": 62,
   "metadata": {
    "id": "pH7f3Yy88s1F"
   },
   "outputs": [],
   "source": [
    "#Applying GradientBoostingRegressor\n",
    "\n",
    "from sklearn.ensemble import GradientBoostingRegressor\n",
    "GBModel =  GradientBoostingRegressor(random_state=0, n_estimators=160, max_depth=8, learning_rate=0.15 )"
   ]
  },
  {
   "cell_type": "code",
   "execution_count": 63,
   "metadata": {
    "colab": {
     "base_uri": "https://localhost:8080/"
    },
    "id": "_9CswJm_BCkW",
    "outputId": "a94a41f7-1a2d-41f6-8604-161668c27293"
   },
   "outputs": [
    {
     "data": {
      "text/plain": [
       "GradientBoostingRegressor(learning_rate=0.15, max_depth=8, n_estimators=160,\n",
       "                          random_state=0)"
      ]
     },
     "execution_count": 63,
     "metadata": {},
     "output_type": "execute_result"
    }
   ],
   "source": [
    "#fitting traning values to tuned model\n",
    "\n",
    "GBModel.fit(train_x,np.log(train_y))"
   ]
  },
  {
   "cell_type": "code",
   "execution_count": 64,
   "metadata": {
    "colab": {
     "base_uri": "https://localhost:8080/"
    },
    "id": "-z3jhaAj82ny",
    "outputId": "a59cb69c-0708-41b1-efaf-2e471f93580a"
   },
   "outputs": [
    {
     "name": "stdout",
     "output_type": "stream",
     "text": [
      "54.454482061014176\n",
      "134.42300006547222\n"
     ]
    }
   ],
   "source": [
    "#Measuring the performance with RMSE Score for GradientBoostingRegressor\n",
    "\n",
    "pred_train = np.exp(GBModel.predict(train_x))\n",
    "print(np.sqrt(mean_squared_error(train_y,pred_train))) # RMSE Score\n",
    "\n",
    "pred = np.exp(GBModel.predict(val_x))\n",
    "print(np.sqrt(mean_squared_error(val_y,pred))) # RMSE Score"
   ]
  },
  {
   "cell_type": "code",
   "execution_count": 65,
   "metadata": {
    "colab": {
     "base_uri": "https://localhost:8080/"
    },
    "id": "DxIyIFx59Fvv",
    "outputId": "b9f0145c-5478-4432-9565-81c9fd4a7475"
   },
   "outputs": [
    {
     "name": "stdout",
     "output_type": "stream",
     "text": [
      "0.1829454046395731\n",
      "0.29896381280212914\n"
     ]
    }
   ],
   "source": [
    "#Measuring the performance with squreroot of mean squared log error Score for GradientBoostingRegressor\n",
    "\n",
    "print(np.sqrt(metrics.mean_squared_log_error( train_y,pred_train)))\n",
    "print(np.sqrt(metrics.mean_squared_log_error( val_y,pred)))"
   ]
  },
  {
   "cell_type": "code",
   "execution_count": 66,
   "metadata": {
    "colab": {
     "base_uri": "https://localhost:8080/"
    },
    "id": "D6rMfTz59F41",
    "outputId": "ed4a0581-f1cf-4daa-9c7e-4d1b84771c20"
   },
   "outputs": [
    {
     "name": "stdout",
     "output_type": "stream",
     "text": [
      "0.9937359954130004\n",
      "0.940907066522473\n"
     ]
    }
   ],
   "source": [
    "#Measuring the performance with R2 Score for GradientBoostingRegressor\n",
    "\n",
    "print(metrics.r2_score(train_y,pred_train))\n",
    "print(metrics.r2_score(val_y,pred))"
   ]
  },
  {
   "cell_type": "code",
   "execution_count": 67,
   "metadata": {
    "colab": {
     "base_uri": "https://localhost:8080/",
     "height": 496
    },
    "id": "6srm7D519GCK",
    "outputId": "caed9496-2e9f-42da-eda6-768c527c34c8"
   },
   "outputs": [
    {
     "data": {
      "text/plain": [
       "<Figure size 864x576 with 0 Axes>"
      ]
     },
     "execution_count": 67,
     "metadata": {},
     "output_type": "execute_result"
    },
    {
     "data": {
      "text/plain": [
       "<matplotlib.collections.PathCollection at 0x2d91a155a00>"
      ]
     },
     "execution_count": 67,
     "metadata": {},
     "output_type": "execute_result"
    },
    {
     "data": {
      "text/plain": [
       "[<matplotlib.lines.Line2D at 0x2d91a162070>]"
      ]
     },
     "execution_count": 67,
     "metadata": {},
     "output_type": "execute_result"
    },
    {
     "data": {
      "image/png": "[encoded data removed]",
      "text/plain": [
       "<Figure size 864x576 with 1 Axes>"
      ]
     },
     "metadata": {},
     "output_type": "display_data"
    }
   ],
   "source": [
    "#plot the prediction for GradientBoostingRegressor\n",
    "\n",
    "plt.figure(figsize=(12,8))\n",
    "plt.scatter(val_y,pred)\n",
    "plt.plot(val_y,val_y,'r')"
   ]
  },
  {
   "cell_type": "markdown",
   "metadata": {
    "id": "7p7WRVQ1DX0a"
   },
   "source": [
    "After compairing the results of two models, it shows that the GradientBoostingRegressor is performing slightly better than RandomForestRegressor. \n",
    "\n",
    "So we will concider GradientBoostingRegressor as the final model.\n",
    "\n",
    "Performing cross validation on GradientBoostingRegressor model to estimate the final score."
   ]
  },
  {
   "cell_type": "code",
   "execution_count": 68,
   "metadata": {
    "colab": {
     "base_uri": "https://localhost:8080/"
    },
    "id": "lR44Ev-rtr02",
    "outputId": "83496672-0389-414b-df0f-8f50787d3bab"
   },
   "outputs": [
    {
     "data": {
      "text/plain": [
       "GradientBoostingRegressor(learning_rate=0.15, max_depth=8, n_estimators=160,\n",
       "                          random_state=0)"
      ]
     },
     "execution_count": 68,
     "metadata": {},
     "output_type": "execute_result"
    },
    {
     "name": "stdout",
     "output_type": "stream",
     "text": [
      "0.9372378333151403\n"
     ]
    },
    {
     "data": {
      "text/plain": [
       "GradientBoostingRegressor(learning_rate=0.15, max_depth=8, n_estimators=160,\n",
       "                          random_state=0)"
      ]
     },
     "execution_count": 68,
     "metadata": {},
     "output_type": "execute_result"
    },
    {
     "name": "stdout",
     "output_type": "stream",
     "text": [
      "0.9608593128171584\n"
     ]
    },
    {
     "data": {
      "text/plain": [
       "GradientBoostingRegressor(learning_rate=0.15, max_depth=8, n_estimators=160,\n",
       "                          random_state=0)"
      ]
     },
     "execution_count": 68,
     "metadata": {},
     "output_type": "execute_result"
    },
    {
     "name": "stdout",
     "output_type": "stream",
     "text": [
      "0.6264565990595328\n"
     ]
    },
    {
     "data": {
      "text/plain": [
       "GradientBoostingRegressor(learning_rate=0.15, max_depth=8, n_estimators=160,\n",
       "                          random_state=0)"
      ]
     },
     "execution_count": 68,
     "metadata": {},
     "output_type": "execute_result"
    },
    {
     "name": "stdout",
     "output_type": "stream",
     "text": [
      "0.8942453761686076\n"
     ]
    },
    {
     "data": {
      "text/plain": [
       "GradientBoostingRegressor(learning_rate=0.15, max_depth=8, n_estimators=160,\n",
       "                          random_state=0)"
      ]
     },
     "execution_count": 68,
     "metadata": {},
     "output_type": "execute_result"
    },
    {
     "name": "stdout",
     "output_type": "stream",
     "text": [
      "0.9537510430183641\n"
     ]
    },
    {
     "data": {
      "text/plain": [
       "GradientBoostingRegressor(learning_rate=0.15, max_depth=8, n_estimators=160,\n",
       "                          random_state=0)"
      ]
     },
     "execution_count": 68,
     "metadata": {},
     "output_type": "execute_result"
    },
    {
     "name": "stdout",
     "output_type": "stream",
     "text": [
      "0.966791993822176\n"
     ]
    },
    {
     "data": {
      "text/plain": [
       "GradientBoostingRegressor(learning_rate=0.15, max_depth=8, n_estimators=160,\n",
       "                          random_state=0)"
      ]
     },
     "execution_count": 68,
     "metadata": {},
     "output_type": "execute_result"
    },
    {
     "name": "stdout",
     "output_type": "stream",
     "text": [
      "0.8929092903297633\n",
      "Average scores are:  0.8903216355043918\n"
     ]
    }
   ],
   "source": [
    "#7 fold Cross validation with GBModel\n",
    "\n",
    "from sklearn.model_selection import KFold, cross_val_score,StratifiedKFold\n",
    "l=[]\n",
    "setused=train_inde\n",
    "target=train_dep\n",
    "kfold, scores = KFold(n_splits=7,random_state=True), list()\n",
    "for train, test in kfold.split(setused,target):\n",
    "    x_train, x_test = setused.values[train], setused.values[test]\n",
    "    y_train, y_test = target.values[train], target.values[test] \n",
    "    model = GBModel\n",
    "    # scaler2= MinMaxScaler().fit(x_train,y_train)\n",
    "    # x_train = scaler2.transform(x_train)\n",
    "    # x_test = scaler2.transform(x_test)\n",
    "    model.fit(x_train, np.log(y_train))\n",
    "    preds = np.exp(model.predict(x_test))\n",
    "    feature_importances = pd.DataFrame(model.feature_importances_,\n",
    "                                       index = setused.columns,\n",
    "                                        columns=['importance'])\n",
    "    sum=feature_importances.values\n",
    "    l.append(sum)\n",
    "    score = metrics.r2_score(y_test, preds)\n",
    "    scores.append(score)\n",
    "    print(score)\n",
    "print(\"Average scores are: \", np.sum(scores)/len(scores))\n"
   ]
  },
  {
   "cell_type": "markdown",
   "metadata": {
    "id": "ZjhZv_WwFBIm"
   },
   "source": [
    "This cross validation provides us an guesstimation how much my prediction can varry in unseen data.After running 7 fold cross validation, I am getting 90.63% R2 score. This score overall seems good."
   ]
  },
  {
   "cell_type": "code",
   "execution_count": 69,
   "metadata": {
    "colab": {
     "base_uri": "https://localhost:8080/",
     "height": 333
    },
    "id": "Rv10Yf9qtrdO",
    "outputId": "7a91174d-c825-47c7-b31c-d81fa7d64144"
   },
   "outputs": [
    {
     "data": {
      "text/plain": [
       "<matplotlib.axes._subplots.AxesSubplot at 0x2d91a185bb0>"
      ]
     },
     "execution_count": 69,
     "metadata": {},
     "output_type": "execute_result"
    },
    {
     "data": {
      "text/plain": [
       "12"
      ]
     },
     "execution_count": 69,
     "metadata": {},
     "output_type": "execute_result"
    },
    {
     "data": {
      "image/png": "[encoded data removed]",
      "text/plain": [
       "<Figure size 360x360 with 1 Axes>"
      ]
     },
     "metadata": {},
     "output_type": "display_data"
    }
   ],
   "source": [
    "#Getting the feature importance\n",
    "\n",
    "train_set=setused\n",
    "labels=target\n",
    "threshold=0.0005\n",
    "add=0\n",
    "for item in l:\n",
    "  add+=item\n",
    "df_cv=pd.DataFrame(add/len(l),index=train_set.columns,columns=[\"importance\"]).sort_values('importance', ascending=False)\n",
    "imp_columns=df_cv[df_cv['importance']>threshold].index.tolist()\n",
    "df_cv=df_cv.reset_index()\n",
    "feat_imp = pd.Series(df_cv.importance.values, index=df_cv.drop([\"importance\"], axis=1)).sort_values(axis='index',ascending=False)\n",
    "X2=setused[imp_columns]\n",
    "feat_imp.nlargest(25).plot(kind='barh', figsize=(5,5))\n",
    "len(imp_columns)"
   ]
  },
  {
   "cell_type": "markdown",
   "metadata": {
    "id": "F8AWYtkNFuPs"
   },
   "source": [
    "Above plot shows the feature importance. From the plot it is evident that the new feature I have created combining area and city is the most important feature in predicting the house price.\n",
    "\n",
    "However, I have made multiple modification in EDA steps and feature seletion by running the model and observing the result and feature importance."
   ]
  },
  {
   "cell_type": "markdown",
   "metadata": {
    "id": "jeypr7cFGpLX"
   },
   "source": []
  },
  {
   "cell_type": "markdown",
   "metadata": {
    "id": "UQEsoOF-G2_j"
   },
   "source": [
    "# Step 4: Applying final model on Test Data"
   ]
  },
  {
   "cell_type": "code",
   "execution_count": 70,
   "metadata": {
    "id": "RzM9fQdZ12lP"
   },
   "outputs": [],
   "source": [
    "#Scaling the test data. However, we are not using it.\n",
    "\n",
    "# test_data_cleand= scaler1.transform(test_data_cleand)"
   ]
  },
  {
   "cell_type": "code",
   "execution_count": 71,
   "metadata": {
    "id": "_sFIpDbKtrVv"
   },
   "outputs": [],
   "source": [
    "#Final Prediction of Price on completely unseen new dataset.\n",
    "\n",
    "final_pred = np.exp(GBModel.predict(test_data_cleand))\n"
   ]
  },
  {
   "cell_type": "code",
   "execution_count": 72,
   "metadata": {
    "id": "dheLvzksLrDX"
   },
   "outputs": [],
   "source": [
    "#Convering result into new dataframe\n",
    "\n",
    "result = pd.DataFrame()\n",
    "result['TARGET(PRICE_IN_LACS)']=pd.Series(final_pred.flatten())"
   ]
  },
  {
   "cell_type": "code",
   "execution_count": 73,
   "metadata": {
    "colab": {
     "base_uri": "https://localhost:8080/",
     "height": 195
    },
    "id": "eU9T1Xn9vEX1",
    "outputId": "257f149d-e4e1-412e-f5ef-0be0fc6b0a91"
   },
   "outputs": [
    {
     "data": {
      "text/html": [
       "<div>\n",
       "<style scoped>\n",
       "    .dataframe tbody tr th:only-of-type {\n",
       "        vertical-align: middle;\n",
       "    }\n",
       "\n",
       "    .dataframe tbody tr th {\n",
       "        vertical-align: top;\n",
       "    }\n",
       "\n",
       "    .dataframe thead th {\n",
       "        text-align: right;\n",
       "    }\n",
       "</style>\n",
       "<table border=\"1\" class=\"dataframe\">\n",
       "  <thead>\n",
       "    <tr style=\"text-align: right;\">\n",
       "      <th></th>\n",
       "      <th>TARGET(PRICE_IN_LACS)</th>\n",
       "    </tr>\n",
       "  </thead>\n",
       "  <tbody>\n",
       "    <tr>\n",
       "      <th>0</th>\n",
       "      <td>10.865646</td>\n",
       "    </tr>\n",
       "    <tr>\n",
       "      <th>1</th>\n",
       "      <td>75.369624</td>\n",
       "    </tr>\n",
       "    <tr>\n",
       "      <th>2</th>\n",
       "      <td>66.330365</td>\n",
       "    </tr>\n",
       "    <tr>\n",
       "      <th>3</th>\n",
       "      <td>32.602219</td>\n",
       "    </tr>\n",
       "    <tr>\n",
       "      <th>4</th>\n",
       "      <td>8.783280</td>\n",
       "    </tr>\n",
       "  </tbody>\n",
       "</table>\n",
       "</div>"
      ],
      "text/plain": [
       "   TARGET(PRICE_IN_LACS)\n",
       "0              10.865646\n",
       "1              75.369624\n",
       "2              66.330365\n",
       "3              32.602219\n",
       "4               8.783280"
      ]
     },
     "execution_count": 73,
     "metadata": {},
     "output_type": "execute_result"
    }
   ],
   "source": [
    "#Final Result\n",
    "result.head()"
   ]
  },
  {
   "cell_type": "code",
   "execution_count": 74,
   "metadata": {
    "id": "I5E3HwpgvIUI"
   },
   "outputs": [],
   "source": [
    "# Exporting result to CSV\n",
    "\n",
    "result.to_csv('sample_submission.csv',index=False)"
   ]
  },
  {
   "cell_type": "markdown",
   "metadata": {
    "id": "ZqxeclxRHxrq"
   },
   "source": [
    "I submitted the result to the following site: https://www.machinehack.com/hackathons/house_price_prediction_beat_the_benchmark/overview \n",
    "\n",
    "They were evaluating the score with squreroot of mean squared log error. This result set was valued with Score 0.32331. "
   ]
  }
 ],
 "metadata": {
  "colab": {
   "name": "House Price Prediction.ipynb",
   "provenance": []
  },
  "kernelspec": {
   "display_name": "Python 3",
   "language": "python",
   "name": "python3"
  },
  "language_info": {
   "codemirror_mode": {
    "name": "ipython",
    "version": 3
   },
   "file_extension": ".py",
   "mimetype": "text/x-python",
   "name": "python",
   "nbconvert_exporter": "python",
   "pygments_lexer": "ipython3",
   "version": "3.8.3"
  }
 },
 "nbformat": 4,
 "nbformat_minor": 1
}
